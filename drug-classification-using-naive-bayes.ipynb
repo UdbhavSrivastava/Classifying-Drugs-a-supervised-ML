{
 "cells": [
  {
   "attachments": {},
   "cell_type": "markdown",
   "id": "51a6eb54",
   "metadata": {
    "id": "qhRlcswzfs5D",
    "papermill": {
     "duration": 0.021352,
     "end_time": "2023-02-05T10:09:07.310685",
     "exception": false,
     "start_time": "2023-02-05T10:09:07.289333",
     "status": "completed"
    },
    "tags": []
   },
   "source": [
    "# <center><b>Classying Drugs based on Machine Learning<b></center>"
   ]
  },
  {
   "attachments": {},
   "cell_type": "markdown",
   "id": "3507afe9",
   "metadata": {
    "id": "GdsyOly4fz5h",
    "papermill": {
     "duration": 0.017068,
     "end_time": "2023-02-05T10:09:07.563884",
     "exception": false,
     "start_time": "2023-02-05T10:09:07.546816",
     "status": "completed"
    },
    "tags": []
   },
   "source": [
    "---\n",
    "<a name = Section2></a>\n",
    "# **1. Problem Statement**\n",
    "---\n",
    "- The increasing complexity of the drug landscape has made it **difficult to classify** drugs accurately, leading to confusion and potential risks for patients. \n",
    "\n",
    "- This has a **direct impact on patient safety**, as the improper use of medications can lead to adverse events. Furthermore, the lack of unified drug classification makes prescribing, dispensing, and monitoring of drug therapies difficult for healthcare professionals. \n",
    "\n",
    "- As such, it is **essential to develop a comprehensive drug classification system** that is both accurate and standardized. Such a system should include age, gender, BP levels, Cholesterol levels, Sodium to potassium ratio to ensure that healthcare professionals are **accurately prescribing and monitoring medications**.\n",
    "\n",
    "- Additionally, such a **system should be tailored to the specific needs of the patient** and should be easily accessible to both healthcare professionals and patients.\n",
    "\n",
    "\n",
    "**<h4>Scenario (Hypothetical):</h4>**\n",
    "\n",
    "- The **government** has recently put into place a new drug classification system. Drugs are now classified into five categories based on the potential risk they pose to public health and safety.\n",
    "\n",
    "- **Category 1** drugs are considered to be the **most dangerous**, and can only be prescribed by a physician under strict supervision. These drugs are **highly regulated** and require a prescription from a certified physician.\n",
    "\n",
    "- **Category 2** drugs have a **moderate risk** and can be prescribed by a physician with some restrictions.\n",
    "\n",
    "- **Category 3** drugs have a **low risk** and can be sold over the counter without a prescription.\n",
    "\n",
    "- **Category 4** drugs are considered to be **safe** and can be sold without any restrictions.\n",
    "\n",
    "- **Category 5** drugs are considered to be **generally safe** but may have some potential risks associated with them. They can be sold without a prescription but with certain restrictions.\n",
    "\n",
    "- The new system is meant to **protect the public from potentially dangerous drugs** and to ensure that those who need access to medication can get it safely and responsibly.\n",
    "\n",
    "- To tackle this situation of crisis, they have **consulted** a team of **data scientists**. **Consider it's you...**\n"
   ]
  },
  {
   "cell_type": "code",
   "execution_count": 3,
   "id": "d1d4b554",
   "metadata": {
    "execution": {
     "iopub.execute_input": "2023-02-05T10:10:18.770202Z",
     "iopub.status.busy": "2023-02-05T10:10:18.769697Z",
     "iopub.status.idle": "2023-02-05T10:10:22.516173Z",
     "shell.execute_reply": "2023-02-05T10:10:22.515127Z"
    },
    "id": "9KpckLk0gAio",
    "papermill": {
     "duration": 3.770173,
     "end_time": "2023-02-05T10:10:22.518812",
     "exception": false,
     "start_time": "2023-02-05T10:10:18.748639",
     "status": "completed"
    },
    "tags": []
   },
   "outputs": [
    {
     "name": "stderr",
     "output_type": "stream",
     "text": [
      "/opt/conda/lib/python3.7/site-packages/ipykernel_launcher.py:3: DeprecationWarning: `import pandas_profiling` is going to be deprecated by April 1st. Please use `import ydata_profiling` instead.\n",
      "  This is separate from the ipykernel package so we can avoid doing imports until\n"
     ]
    }
   ],
   "source": [
    "import pandas as pd                                                 \n",
    "from pandas_profiling import ProfileReport                         \n",
    "pd.set_option('display.max_columns', None)                              \n",
    "pd.set_option('display.max_colwidth', None)                              \n",
    "pd.set_option('display.max_rows', None)                             \n",
    "pd.set_option('mode.chained_assignment', None)                      \n",
    "pd.set_option('display.float_format', lambda x: '%.5f' % x)         \n",
    "import numpy as np                                                  \n",
    "import matplotlib.pyplot as plt                                     \n",
    "from matplotlib.pylab import rcParams                                                                            \n",
    "import seaborn as sns                                               \n",
    "%matplotlib inline\n",
    "from random import randint                                          \n",
    "from sklearn.preprocessing import StandardScaler                    \n",
    "from sklearn.feature_selection import SelectFromModel               \n",
    "from yellowbrick.model_selection import FeatureImportances          \n",
    "from imblearn.over_sampling import SMOTE                            \n",
    "from sklearn.metrics import precision_recall_curve                  \n",
    "from sklearn.metrics import classification_report                   \n",
    "from sklearn.metrics import plot_confusion_matrix                   \n",
    "from sklearn.model_selection import train_test_split                    \n",
    "from sklearn.naive_bayes import GaussianNB                          \n",
    "from sklearn.ensemble import RandomForestClassifier                 \n",
    "import warnings                                                     \n",
    "warnings.filterwarnings(\"ignore\")                                   "
   ]
  },
  {
   "attachments": {},
   "cell_type": "markdown",
   "id": "69656bb7",
   "metadata": {
    "id": "H0muZAkqgGD4",
    "papermill": {
     "duration": 0.01773,
     "end_time": "2023-02-05T10:10:22.601087",
     "exception": false,
     "start_time": "2023-02-05T10:10:22.583357",
     "status": "completed"
    },
    "tags": []
   },
   "source": [
    "---\n",
    "<a name = Section4></a>\n",
    "# **2. Data Acquisition & Description**\n",
    "---\n",
    "\n",
    "- This data set presents **records** of the **patients** and can be retrieved from the attached <a href = \"https://www.kaggle.com/datasets/prathamtripathi/drug-classification\">**link**</a>.\n",
    "\n",
    "| Records | Features | Dataset Size |\n",
    "| :-- | :-- | :-- |\n",
    "| 200 | 6 | 50.8 Kb| \n",
    "\n",
    "<br>\n",
    "\n",
    "| Id | Features | Description |\n",
    "| :-- | :--| :--| \n",
    "|01| **Age** | Age of the patient|\n",
    "|02| **Sex** | Gender of the patient | \n",
    "|03|**BP**| BP level of the patient |\n",
    "|04|**Cholesterol**| Cholesterol level of the patient |\n",
    "|04|**Na_to_K**| Sodium to Potassium Ratio |\n",
    "|04|**Drug**| Name of the drug (Target Variable)|"
   ]
  },
  {
   "cell_type": "code",
   "execution_count": 5,
   "id": "cc99f743",
   "metadata": {
    "execution": {
     "iopub.execute_input": "2023-02-05T10:10:22.639157Z",
     "iopub.status.busy": "2023-02-05T10:10:22.638403Z",
     "iopub.status.idle": "2023-02-05T10:10:22.690439Z",
     "shell.execute_reply": "2023-02-05T10:10:22.689040Z"
    },
    "id": "LkjjrqK4gDyn",
    "outputId": "76018d5e-061d-4a86-dc39-be8763606791",
    "papermill": {
     "duration": 0.074172,
     "end_time": "2023-02-05T10:10:22.693301",
     "exception": false,
     "start_time": "2023-02-05T10:10:22.619129",
     "status": "completed"
    },
    "tags": []
   },
   "outputs": [
    {
     "name": "stdout",
     "output_type": "stream",
     "text": [
      "Data Shape: (200, 6)\n"
     ]
    },
    {
     "data": {
      "text/html": [
       "<div>\n",
       "<style scoped>\n",
       "    .dataframe tbody tr th:only-of-type {\n",
       "        vertical-align: middle;\n",
       "    }\n",
       "\n",
       "    .dataframe tbody tr th {\n",
       "        vertical-align: top;\n",
       "    }\n",
       "\n",
       "    .dataframe thead th {\n",
       "        text-align: right;\n",
       "    }\n",
       "</style>\n",
       "<table border=\"1\" class=\"dataframe\">\n",
       "  <thead>\n",
       "    <tr style=\"text-align: right;\">\n",
       "      <th></th>\n",
       "      <th>Age</th>\n",
       "      <th>Sex</th>\n",
       "      <th>BP</th>\n",
       "      <th>Cholesterol</th>\n",
       "      <th>Na_to_K</th>\n",
       "      <th>Drug</th>\n",
       "    </tr>\n",
       "  </thead>\n",
       "  <tbody>\n",
       "    <tr>\n",
       "      <th>0</th>\n",
       "      <td>23</td>\n",
       "      <td>F</td>\n",
       "      <td>HIGH</td>\n",
       "      <td>HIGH</td>\n",
       "      <td>25.35500</td>\n",
       "      <td>DrugY</td>\n",
       "    </tr>\n",
       "    <tr>\n",
       "      <th>1</th>\n",
       "      <td>47</td>\n",
       "      <td>M</td>\n",
       "      <td>LOW</td>\n",
       "      <td>HIGH</td>\n",
       "      <td>13.09300</td>\n",
       "      <td>drugC</td>\n",
       "    </tr>\n",
       "    <tr>\n",
       "      <th>2</th>\n",
       "      <td>47</td>\n",
       "      <td>M</td>\n",
       "      <td>LOW</td>\n",
       "      <td>HIGH</td>\n",
       "      <td>10.11400</td>\n",
       "      <td>drugC</td>\n",
       "    </tr>\n",
       "    <tr>\n",
       "      <th>3</th>\n",
       "      <td>28</td>\n",
       "      <td>F</td>\n",
       "      <td>NORMAL</td>\n",
       "      <td>HIGH</td>\n",
       "      <td>7.79800</td>\n",
       "      <td>drugX</td>\n",
       "    </tr>\n",
       "    <tr>\n",
       "      <th>4</th>\n",
       "      <td>61</td>\n",
       "      <td>F</td>\n",
       "      <td>LOW</td>\n",
       "      <td>HIGH</td>\n",
       "      <td>18.04300</td>\n",
       "      <td>DrugY</td>\n",
       "    </tr>\n",
       "  </tbody>\n",
       "</table>\n",
       "</div>"
      ],
      "text/plain": [
       "   Age Sex      BP Cholesterol  Na_to_K   Drug\n",
       "0   23   F    HIGH        HIGH 25.35500  DrugY\n",
       "1   47   M     LOW        HIGH 13.09300  drugC\n",
       "2   47   M     LOW        HIGH 10.11400  drugC\n",
       "3   28   F  NORMAL        HIGH  7.79800  drugX\n",
       "4   61   F     LOW        HIGH 18.04300  DrugY"
      ]
     },
     "execution_count": 5,
     "metadata": {},
     "output_type": "execute_result"
    }
   ],
   "source": [
    "data = pd.read_csv('/kaggle/input/drug-classification/drug200.csv')\n",
    "print('Data Shape:', data.shape)\n",
    "data.head()"
   ]
  },
  {
   "attachments": {},
   "cell_type": "markdown",
   "id": "78621f72",
   "metadata": {
    "id": "IWLkJZjWx2s9",
    "papermill": {
     "duration": 0.018143,
     "end_time": "2023-02-05T10:10:22.729954",
     "exception": false,
     "start_time": "2023-02-05T10:10:22.711811",
     "status": "completed"
    },
    "tags": []
   },
   "source": [
    "<a name = Section41></a>\n",
    "### **2.1 Data Description**\n",
    "\n",
    "- In this section we will get **information about the data** and see some observations."
   ]
  },
  {
   "cell_type": "code",
   "execution_count": 6,
   "id": "163aaee7",
   "metadata": {
    "execution": {
     "iopub.execute_input": "2023-02-05T10:10:22.769314Z",
     "iopub.status.busy": "2023-02-05T10:10:22.768888Z",
     "iopub.status.idle": "2023-02-05T10:10:22.798549Z",
     "shell.execute_reply": "2023-02-05T10:10:22.797316Z"
    },
    "id": "PUmtfeFqwbWg",
    "outputId": "12d2a652-647a-41c9-8b5c-57438db97456",
    "papermill": {
     "duration": 0.052343,
     "end_time": "2023-02-05T10:10:22.801163",
     "exception": false,
     "start_time": "2023-02-05T10:10:22.748820",
     "status": "completed"
    },
    "tags": []
   },
   "outputs": [
    {
     "data": {
      "text/html": [
       "<div>\n",
       "<style scoped>\n",
       "    .dataframe tbody tr th:only-of-type {\n",
       "        vertical-align: middle;\n",
       "    }\n",
       "\n",
       "    .dataframe tbody tr th {\n",
       "        vertical-align: top;\n",
       "    }\n",
       "\n",
       "    .dataframe thead th {\n",
       "        text-align: right;\n",
       "    }\n",
       "</style>\n",
       "<table border=\"1\" class=\"dataframe\">\n",
       "  <thead>\n",
       "    <tr style=\"text-align: right;\">\n",
       "      <th></th>\n",
       "      <th>Age</th>\n",
       "      <th>Na_to_K</th>\n",
       "    </tr>\n",
       "  </thead>\n",
       "  <tbody>\n",
       "    <tr>\n",
       "      <th>count</th>\n",
       "      <td>200.00000</td>\n",
       "      <td>200.00000</td>\n",
       "    </tr>\n",
       "    <tr>\n",
       "      <th>mean</th>\n",
       "      <td>44.31500</td>\n",
       "      <td>16.08449</td>\n",
       "    </tr>\n",
       "    <tr>\n",
       "      <th>std</th>\n",
       "      <td>16.54431</td>\n",
       "      <td>7.22396</td>\n",
       "    </tr>\n",
       "    <tr>\n",
       "      <th>min</th>\n",
       "      <td>15.00000</td>\n",
       "      <td>6.26900</td>\n",
       "    </tr>\n",
       "    <tr>\n",
       "      <th>25%</th>\n",
       "      <td>31.00000</td>\n",
       "      <td>10.44550</td>\n",
       "    </tr>\n",
       "    <tr>\n",
       "      <th>50%</th>\n",
       "      <td>45.00000</td>\n",
       "      <td>13.93650</td>\n",
       "    </tr>\n",
       "    <tr>\n",
       "      <th>75%</th>\n",
       "      <td>58.00000</td>\n",
       "      <td>19.38000</td>\n",
       "    </tr>\n",
       "    <tr>\n",
       "      <th>max</th>\n",
       "      <td>74.00000</td>\n",
       "      <td>38.24700</td>\n",
       "    </tr>\n",
       "  </tbody>\n",
       "</table>\n",
       "</div>"
      ],
      "text/plain": [
       "            Age   Na_to_K\n",
       "count 200.00000 200.00000\n",
       "mean   44.31500  16.08449\n",
       "std    16.54431   7.22396\n",
       "min    15.00000   6.26900\n",
       "25%    31.00000  10.44550\n",
       "50%    45.00000  13.93650\n",
       "75%    58.00000  19.38000\n",
       "max    74.00000  38.24700"
      ]
     },
     "execution_count": 6,
     "metadata": {},
     "output_type": "execute_result"
    }
   ],
   "source": [
    "data.describe()"
   ]
  },
  {
   "cell_type": "markdown",
   "id": "79b4f805",
   "metadata": {
    "id": "z9uuutUfUwVr",
    "papermill": {
     "duration": 0.018328,
     "end_time": "2023-02-05T10:10:22.837737",
     "exception": false,
     "start_time": "2023-02-05T10:10:22.819409",
     "status": "completed"
    },
    "tags": []
   },
   "source": [
    "**Observation:**\n",
    "\n",
    "- The **average** age is 44 and the **maximum** age is 74\n",
    "\n",
    "- The **Sodium to Potassium Ratio** goes from 6 to 38 with an **average** of 16."
   ]
  },
  {
   "attachments": {},
   "cell_type": "markdown",
   "id": "6df68185",
   "metadata": {
    "id": "ofXq-dE8x5lZ",
    "papermill": {
     "duration": 0.018303,
     "end_time": "2023-02-05T10:10:22.875543",
     "exception": false,
     "start_time": "2023-02-05T10:10:22.857240",
     "status": "completed"
    },
    "tags": []
   },
   "source": [
    "<a name = Section42></a>\n",
    "### **2.2 Data Information**\n",
    "\n",
    "- In this section we will see the **information about the types of features**."
   ]
  },
  {
   "cell_type": "code",
   "execution_count": 7,
   "id": "a1801180",
   "metadata": {
    "execution": {
     "iopub.execute_input": "2023-02-05T10:10:22.915477Z",
     "iopub.status.busy": "2023-02-05T10:10:22.914253Z",
     "iopub.status.idle": "2023-02-05T10:10:22.930864Z",
     "shell.execute_reply": "2023-02-05T10:10:22.929477Z"
    },
    "id": "YdsYPhanx5eL",
    "outputId": "25fe1a1a-328b-4263-f5be-3b224da2af02",
    "papermill": {
     "duration": 0.039776,
     "end_time": "2023-02-05T10:10:22.934475",
     "exception": false,
     "start_time": "2023-02-05T10:10:22.894699",
     "status": "completed"
    },
    "tags": []
   },
   "outputs": [
    {
     "name": "stdout",
     "output_type": "stream",
     "text": [
      "<class 'pandas.core.frame.DataFrame'>\n",
      "RangeIndex: 200 entries, 0 to 199\n",
      "Data columns (total 6 columns):\n",
      " #   Column       Non-Null Count  Dtype  \n",
      "---  ------       --------------  -----  \n",
      " 0   Age          200 non-null    int64  \n",
      " 1   Sex          200 non-null    object \n",
      " 2   BP           200 non-null    object \n",
      " 3   Cholesterol  200 non-null    object \n",
      " 4   Na_to_K      200 non-null    float64\n",
      " 5   Drug         200 non-null    object \n",
      "dtypes: float64(1), int64(1), object(4)\n",
      "memory usage: 50.8 KB\n"
     ]
    }
   ],
   "source": [
    "data.info(verbose = True, memory_usage = 'deep', null_counts = True)"
   ]
  },
  {
   "cell_type": "markdown",
   "id": "5292fe88",
   "metadata": {
    "id": "Vx0yT5J7WVpf",
    "papermill": {
     "duration": 0.018249,
     "end_time": "2023-02-05T10:10:22.972086",
     "exception": false,
     "start_time": "2023-02-05T10:10:22.953837",
     "status": "completed"
    },
    "tags": []
   },
   "source": [
    "**Observation:**\n",
    "\n",
    "- There is **no null data present** inside our data set.\n",
    "\n",
    "- **Each feature** seems to have **correct data type**."
   ]
  },
  {
   "attachments": {},
   "cell_type": "markdown",
   "id": "9cc37fba",
   "metadata": {
    "id": "r0behJ7WzHFy",
    "papermill": {
     "duration": 0.022553,
     "end_time": "2023-02-05T10:10:23.013083",
     "exception": false,
     "start_time": "2023-02-05T10:10:22.990530",
     "status": "completed"
    },
    "tags": []
   },
   "source": [
    "<a name = Section5></a>\n",
    "\n",
    "---\n",
    "# **3. Data Pre-Processing**\n",
    "---"
   ]
  },
  {
   "attachments": {},
   "cell_type": "markdown",
   "id": "100360bc",
   "metadata": {
    "id": "_4Hr34Dky1f0",
    "papermill": {
     "duration": 0.018714,
     "end_time": "2023-02-05T10:10:23.052058",
     "exception": false,
     "start_time": "2023-02-05T10:10:23.033344",
     "status": "completed"
    },
    "tags": []
   },
   "source": [
    "<a name = Section51></a>\n",
    "### **3.1 Pre Profiling Report**\n",
    "\n",
    "- For **quick analysis** pandas profiling is very handy.\n",
    "\n",
    "- Generates profile reports from a pandas DataFrame.\n",
    "\n",
    "- For each column **statistics** are presented in an interactive HTML report."
   ]
  },
  {
   "cell_type": "markdown",
   "id": "9098d7e0",
   "metadata": {
    "id": "0ZmA7OT0W82u",
    "papermill": {
     "duration": 0.019225,
     "end_time": "2023-02-05T10:10:29.669498",
     "exception": false,
     "start_time": "2023-02-05T10:10:29.650273",
     "status": "completed"
    },
    "tags": []
   },
   "source": [
    "**Observation:**\n",
    "\n",
    "- Report show that there are **6 features** out of which **4 are categorical** and **2 are numerical**.\n",
    "\n",
    "- There is **no missing data**.\n",
    "\n",
    "- For full details checkout the report."
   ]
  },
  {
   "cell_type": "markdown",
   "id": "21e97d43",
   "metadata": {
    "id": "IXJeiAQjY_8z",
    "papermill": {
     "duration": 0.018332,
     "end_time": "2023-02-05T10:10:29.706716",
     "exception": false,
     "start_time": "2023-02-05T10:10:29.688384",
     "status": "completed"
    },
    "tags": []
   },
   "source": [
    "**Performing Operations**"
   ]
  },
  {
   "cell_type": "code",
   "execution_count": 9,
   "id": "c17e9a7b",
   "metadata": {
    "execution": {
     "iopub.execute_input": "2023-02-05T10:10:29.746818Z",
     "iopub.status.busy": "2023-02-05T10:10:29.746394Z",
     "iopub.status.idle": "2023-02-05T10:10:29.756863Z",
     "shell.execute_reply": "2023-02-05T10:10:29.755551Z"
    },
    "id": "syW8eGAzZChH",
    "outputId": "db09d004-8ff3-4008-d03e-fc24ceb7013e",
    "papermill": {
     "duration": 0.033686,
     "end_time": "2023-02-05T10:10:29.759580",
     "exception": false,
     "start_time": "2023-02-05T10:10:29.725894",
     "status": "completed"
    },
    "tags": []
   },
   "outputs": [
    {
     "name": "stdout",
     "output_type": "stream",
     "text": [
      "Data Shape [Before]: (200, 6)\n",
      "Data Shape [After]: (200, 6)\n",
      "Drop Ratio: 0.0 %\n"
     ]
    }
   ],
   "source": [
    "before_shape = data.shape\n",
    "print('Data Shape [Before]:', before_shape)\n",
    "\n",
    "data.drop_duplicates(inplace = True)\n",
    "\n",
    "after_shape = data.shape\n",
    "print('Data Shape [After]:', after_shape)\n",
    "\n",
    "drop_nums = before_shape[0] - after_shape[0]\n",
    "drop_percent = np.round(drop_nums / before_shape[0], decimals = 5) * 100\n",
    "\n",
    "print('Drop Ratio:', drop_percent, '%')"
   ]
  },
  {
   "cell_type": "markdown",
   "id": "abde7e42",
   "metadata": {
    "id": "0NwT4oPnaFt7",
    "papermill": {
     "duration": 0.018404,
     "end_time": "2023-02-05T10:10:29.797249",
     "exception": false,
     "start_time": "2023-02-05T10:10:29.778845",
     "status": "completed"
    },
    "tags": []
   },
   "source": [
    "**Observation:**\n",
    "\n",
    "- There was **no duplicate data**."
   ]
  },
  {
   "attachments": {},
   "cell_type": "markdown",
   "id": "49def199",
   "metadata": {
    "id": "idD3QcKjzbOx",
    "papermill": {
     "duration": 0.01871,
     "end_time": "2023-02-05T10:10:29.834688",
     "exception": false,
     "start_time": "2023-02-05T10:10:29.815978",
     "status": "completed"
    },
    "tags": []
   },
   "source": [
    "<a name = Section6></a>\n",
    "\n",
    "---\n",
    "# **4. Exploratory Data Analysis**\n",
    "---"
   ]
  },
  {
   "cell_type": "markdown",
   "id": "edb814dd",
   "metadata": {
    "id": "6pdpI7nQaoAG",
    "papermill": {
     "duration": 0.019452,
     "end_time": "2023-02-05T10:10:29.872882",
     "exception": false,
     "start_time": "2023-02-05T10:10:29.853430",
     "status": "completed"
    },
    "tags": []
   },
   "source": [
    "**<h4>Question: What is the frequency and proportion of drugs?</h4>**"
   ]
  },
  {
   "cell_type": "code",
   "execution_count": 10,
   "id": "8495a1fd",
   "metadata": {
    "execution": {
     "iopub.execute_input": "2023-02-05T10:10:29.913073Z",
     "iopub.status.busy": "2023-02-05T10:10:29.912370Z",
     "iopub.status.idle": "2023-02-05T10:10:30.335812Z",
     "shell.execute_reply": "2023-02-05T10:10:30.334859Z"
    },
    "id": "cjcalMl7zbIN",
    "outputId": "855672c7-3300-41e4-eed3-3e5171fb141d",
    "papermill": {
     "duration": 0.446122,
     "end_time": "2023-02-05T10:10:30.338134",
     "exception": false,
     "start_time": "2023-02-05T10:10:29.892012",
     "status": "completed"
    },
    "tags": []
   },
   "outputs": [
    {
     "data": {
      "image/png": "[encoded data removed]",
      "text/plain": [
       "<Figure size 1080x576 with 2 Axes>"
      ]
     },
     "metadata": {},
     "output_type": "display_data"
    }
   ],
   "source": [
    "fig = plt.figure(figsize = [15, 8])\n",
    "plt.subplot(1, 2, 1)\n",
    "ax = sns.countplot(x = 'Drug', data = data)\n",
    "for bar in ax.patches:\n",
    "    ax.annotate(format(bar.get_height(), '.0f'),(bar.get_x() + bar.get_width() / 2,bar.get_height()), \n",
    "                 ha='center', va='center',size=15, xytext=(0, 8),textcoords='offset points')\n",
    "plt.xlabel(xlabel = 'Drug', size = 14)\n",
    "plt.ylabel(ylabel = 'Frequency', size = 14)\n",
    "plt.title(label = 'Frequency Distribution', size = 14)\n",
    "\n",
    "plt.subplot(1, 2, 2)\n",
    "space = np.ones(5)/10\n",
    "data['Drug'].value_counts().plot(kind = 'pie', explode = space, fontsize = 14, autopct = '%3.1f%%', \n",
    "                                 wedgeprops = dict(width=0.15), startangle = 160, figsize = [15, 8], legend = False)\n",
    "plt.title(label = 'Proportion Distribution', size = 14)\n",
    "plt.tight_layout(pad = 3.0)\n",
    "plt.suptitle(t = 'Frequency & Proportion of Drug Type', y = 1.02, size = 16)\n",
    "plt.show()"
   ]
  },
  {
   "cell_type": "markdown",
   "id": "89a05315",
   "metadata": {
    "id": "ZshbMHo3cXp0",
    "papermill": {
     "duration": 0.019478,
     "end_time": "2023-02-05T10:10:30.379181",
     "exception": false,
     "start_time": "2023-02-05T10:10:30.359703",
     "status": "completed"
    },
    "tags": []
   },
   "source": [
    "**Observation:**\n",
    "\n",
    "- We can **observe class imbalance** in our data set.\n",
    "\n",
    "- This will pose a **big problem** while **performing model building**, but we **will see what we can do**."
   ]
  },
  {
   "cell_type": "markdown",
   "id": "06da2654",
   "metadata": {
    "id": "Qng5IxLgfUYI",
    "papermill": {
     "duration": 0.020123,
     "end_time": "2023-02-05T10:10:30.419628",
     "exception": false,
     "start_time": "2023-02-05T10:10:30.399505",
     "status": "completed"
    },
    "tags": []
   },
   "source": [
    "**<h4>Question: What is the distribution of drugs in various cholestoral levels?</h4>**"
   ]
  },
  {
   "cell_type": "code",
   "execution_count": 11,
   "id": "c9a97843",
   "metadata": {
    "execution": {
     "iopub.execute_input": "2023-02-05T10:10:30.461968Z",
     "iopub.status.busy": "2023-02-05T10:10:30.461209Z",
     "iopub.status.idle": "2023-02-05T10:10:30.800884Z",
     "shell.execute_reply": "2023-02-05T10:10:30.799690Z"
    },
    "id": "ZNyKG7tUabWo",
    "outputId": "99467f77-9306-44ed-816c-f0f7486465bf",
    "papermill": {
     "duration": 0.363887,
     "end_time": "2023-02-05T10:10:30.803587",
     "exception": false,
     "start_time": "2023-02-05T10:10:30.439700",
     "status": "completed"
    },
    "tags": []
   },
   "outputs": [
    {
     "data": {
      "image/png": "[encoded data removed]",
      "text/plain": [
       "<Figure size 1440x504 with 2 Axes>"
      ]
     },
     "metadata": {},
     "output_type": "display_data"
    }
   ],
   "source": [
    "# Plotting the distribution of the sliced data\n",
    "fig, (ax1, ax2) = plt.subplots(nrows = 2, ncols = 1, sharex = True, figsize = (20, 7))\n",
    "ax1 = sns.countplot(data[data.Cholesterol == 'HIGH'].Drug,  ax = ax1)\n",
    "ax1.set_title(label = 'Distribution of Drug in High Cholesterol', size = 14)\n",
    "for bar in ax1.patches:\n",
    "    ax1.annotate(format(bar.get_height(), '.0f'),(bar.get_x() + bar.get_width() / 2,bar.get_height()), \n",
    "                 ha='center', va='center',size=15, xytext=(0, 8),textcoords='offset points')\n",
    "ax1.set_xlabel(xlabel = '')\n",
    "ax2 = sns.countplot(data[data.Cholesterol == 'NORMAL'].Drug,  ax = ax2)\n",
    "for bar in ax2.patches:\n",
    "    ax2.annotate(format(bar.get_height(), '.0f'),(bar.get_x() + bar.get_width() / 2,bar.get_height()), \n",
    "                 ha='center', va='center',size=15, xytext=(0, 8),textcoords='offset points')\n",
    "ax2.set_title(label = 'Distribution of Drug in Normal Cholesterol', size = 14)\n",
    "plt.show()"
   ]
  },
  {
   "cell_type": "markdown",
   "id": "3401d61c",
   "metadata": {
    "id": "1VDxbMYg__1d",
    "papermill": {
     "duration": 0.020078,
     "end_time": "2023-02-05T10:10:30.844374",
     "exception": false,
     "start_time": "2023-02-05T10:10:30.824296",
     "status": "completed"
    },
    "tags": []
   },
   "source": [
    "**Observations**\n",
    "\n",
    "- DrugY is being recommended to both people with High and Normal Cholestrol \n",
    "\n",
    "-  DrugB is being recommended the least to both people with High and Normal Cholestrol \n",
    "\n",
    "- DrugX is being given to people with Normal Cholestrol on 2nd number while DrugA is being given to people with High Cholestrol on 2nd Number"
   ]
  },
  {
   "cell_type": "markdown",
   "id": "42373d32",
   "metadata": {
    "id": "GtJUdQISdfX2",
    "papermill": {
     "duration": 0.020117,
     "end_time": "2023-02-05T10:10:30.884992",
     "exception": false,
     "start_time": "2023-02-05T10:10:30.864875",
     "status": "completed"
    },
    "tags": []
   },
   "source": [
    "**<h4>Question: What is the distribution of drugs in Males and Females?</h4>**"
   ]
  },
  {
   "cell_type": "code",
   "execution_count": 12,
   "id": "bbfaffe1",
   "metadata": {
    "execution": {
     "iopub.execute_input": "2023-02-05T10:10:30.929413Z",
     "iopub.status.busy": "2023-02-05T10:10:30.928645Z",
     "iopub.status.idle": "2023-02-05T10:10:31.279479Z",
     "shell.execute_reply": "2023-02-05T10:10:31.278179Z"
    },
    "id": "3mpl83rKcxbj",
    "outputId": "a0d5bc71-ac02-4806-f2f2-5bd1e99df1dd",
    "papermill": {
     "duration": 0.376723,
     "end_time": "2023-02-05T10:10:31.282088",
     "exception": false,
     "start_time": "2023-02-05T10:10:30.905365",
     "status": "completed"
    },
    "tags": []
   },
   "outputs": [
    {
     "data": {
      "image/png": "[encoded data removed]",
      "text/plain": [
       "<Figure size 1440x504 with 2 Axes>"
      ]
     },
     "metadata": {},
     "output_type": "display_data"
    }
   ],
   "source": [
    "# Plotting the distribution of the sliced data\n",
    "fig, (ax1, ax2) = plt.subplots(nrows = 2, ncols = 1, sharex = True, figsize = (20, 7))\n",
    "ax1 = sns.countplot(data[data.Sex == 'M'].Drug,  ax = ax1)\n",
    "ax1.set_title(label = 'Distribution of Drug in Males', size = 14)\n",
    "for bar in ax1.patches:\n",
    "    ax1.annotate(format(bar.get_height(), '.0f'),(bar.get_x() + bar.get_width() / 2,bar.get_height()), \n",
    "                 ha='center', va='center',size=15, xytext=(0, 8),textcoords='offset points')\n",
    "ax1.set_ylabel(ylabel = 'Count')\n",
    "ax2 = sns.countplot(data[data.Sex == 'F'].Drug,  ax = ax2)\n",
    "for bar in ax2.patches:\n",
    "    ax2.annotate(format(bar.get_height(), '.0f'),(bar.get_x() + bar.get_width() / 2,bar.get_height()), \n",
    "                 ha='center', va='center',size=15, xytext=(0, 8),textcoords='offset points')\n",
    "ax2.set_title(label = 'Distribution of Drug in Females', size = 14)\n",
    "ax2.set_ylabel(ylabel = 'Count')\n",
    "plt.show()"
   ]
  },
  {
   "cell_type": "markdown",
   "id": "8a27cb02",
   "metadata": {
    "id": "-aDk2fv3BPZg",
    "papermill": {
     "duration": 0.020944,
     "end_time": "2023-02-05T10:10:31.324091",
     "exception": false,
     "start_time": "2023-02-05T10:10:31.303147",
     "status": "completed"
    },
    "tags": []
   },
   "source": [
    "**Observations**\n",
    "-  Males are being given DrugX the most followed by DrugC while DrugY is the least recommended to Males.\n",
    "\n",
    "- Females are being given DrugY the most followed by DrugX while DrugB is the least recommended to Females."
   ]
  },
  {
   "cell_type": "markdown",
   "id": "d076bd93",
   "metadata": {
    "id": "MBdnEcMbdoBu",
    "papermill": {
     "duration": 0.020772,
     "end_time": "2023-02-05T10:10:31.366122",
     "exception": false,
     "start_time": "2023-02-05T10:10:31.345350",
     "status": "completed"
    },
    "tags": []
   },
   "source": [
    "**<h4>Question: What is the spread of Age and Sodium-to-Potassium Ratio?</h4>**"
   ]
  },
  {
   "cell_type": "code",
   "execution_count": 13,
   "id": "529152a2",
   "metadata": {
    "execution": {
     "iopub.execute_input": "2023-02-05T10:10:31.410390Z",
     "iopub.status.busy": "2023-02-05T10:10:31.409932Z",
     "iopub.status.idle": "2023-02-05T10:10:31.924962Z",
     "shell.execute_reply": "2023-02-05T10:10:31.923807Z"
    },
    "id": "SVNLn99JgzCB",
    "outputId": "477490fa-ff8a-4317-8491-34970954395d",
    "papermill": {
     "duration": 0.540344,
     "end_time": "2023-02-05T10:10:31.927478",
     "exception": false,
     "start_time": "2023-02-05T10:10:31.387134",
     "status": "completed"
    },
    "tags": []
   },
   "outputs": [
    {
     "data": {
      "image/png": "[encoded data removed]",
      "text/plain": [
       "<Figure size 1440x504 with 2 Axes>"
      ]
     },
     "metadata": {},
     "output_type": "display_data"
    }
   ],
   "source": [
    "age  = data.Age\n",
    "Na_to_K_ratio = data.Na_to_K\n",
    "\n",
    "# Plotting the distribution of the sliced data\n",
    "fig, (ax1, ax2) = plt.subplots(nrows = 2, ncols = 1, sharex = True, figsize = (20, 7))\n",
    "sns.distplot(a = age, bins = 50, ax = ax1, color = 'C0')\n",
    "ax1.set_title(label = 'Distribution of Age', size = 14)\n",
    "sns.distplot(a = Na_to_K_ratio, bins = 50, ax = ax2, color = 'orange')\n",
    "ax2.set_title(label = 'Distribution of Na_to_K_ratio', size = 14)\n",
    "plt.show()"
   ]
  },
  {
   "cell_type": "markdown",
   "id": "40831e53",
   "metadata": {
    "id": "jviKwn24rmd7",
    "papermill": {
     "duration": 0.021293,
     "end_time": "2023-02-05T10:10:31.971567",
     "exception": false,
     "start_time": "2023-02-05T10:10:31.950274",
     "status": "completed"
    },
    "tags": []
   },
   "source": [
    "**Note:** These are few question we need to analyze before moving further and if you want to dig deeper into this, feel free to do so..."
   ]
  },
  {
   "attachments": {},
   "cell_type": "markdown",
   "id": "cbd0eda7",
   "metadata": {
    "id": "gbX3__T_sM5U",
    "papermill": {
     "duration": 0.021148,
     "end_time": "2023-02-05T10:10:32.014845",
     "exception": false,
     "start_time": "2023-02-05T10:10:31.993697",
     "status": "completed"
    },
    "tags": []
   },
   "source": [
    "<a name = Section7></a>\n",
    "\n",
    "---\n",
    "# **5. Post Data Processing & Feature Selection**\n",
    "---\n",
    "- Now we will **perform standardization** and **feed it** to the **Random Forest**.\n",
    "\n",
    "- **Random Forest** will then **identify important features** for our model **using threshold**.\n",
    "\n",
    "- This threshold is **used over** the **information gain** which results in **reduction in impurity**.\n",
    "\n",
    "- And **finally** we will **split** our **data** for the **model development**."
   ]
  },
  {
   "attachments": {},
   "cell_type": "markdown",
   "id": "e33b720b",
   "metadata": {
    "id": "l3xxXaYosp5H",
    "papermill": {
     "duration": 0.021332,
     "end_time": "2023-02-05T10:10:32.057624",
     "exception": false,
     "start_time": "2023-02-05T10:10:32.036292",
     "status": "completed"
    },
    "tags": []
   },
   "source": [
    "<a name = Section71></a>\n",
    "### **5.1 Data Standardization**\n",
    "\n",
    "- Here we will perform standardization over the input features."
   ]
  },
  {
   "cell_type": "code",
   "execution_count": 14,
   "id": "dc2f4e7b",
   "metadata": {
    "execution": {
     "iopub.execute_input": "2023-02-05T10:10:32.104082Z",
     "iopub.status.busy": "2023-02-05T10:10:32.103368Z",
     "iopub.status.idle": "2023-02-05T10:10:32.114304Z",
     "shell.execute_reply": "2023-02-05T10:10:32.113063Z"
    },
    "id": "5VK32r4ahZ-G",
    "papermill": {
     "duration": 0.037424,
     "end_time": "2023-02-05T10:10:32.117104",
     "exception": false,
     "start_time": "2023-02-05T10:10:32.079680",
     "status": "completed"
    },
    "tags": []
   },
   "outputs": [],
   "source": [
    "#Creating a temp_df for getting the onehotencoding of the object columns\n",
    "temp_df = pd.get_dummies(data[['Sex', 'BP', 'Cholesterol']])"
   ]
  },
  {
   "cell_type": "code",
   "execution_count": 15,
   "id": "87406e1e",
   "metadata": {
    "execution": {
     "iopub.execute_input": "2023-02-05T10:10:32.163574Z",
     "iopub.status.busy": "2023-02-05T10:10:32.162919Z",
     "iopub.status.idle": "2023-02-05T10:10:32.169727Z",
     "shell.execute_reply": "2023-02-05T10:10:32.168837Z"
    },
    "id": "-fapBU4IeWY8",
    "papermill": {
     "duration": 0.032795,
     "end_time": "2023-02-05T10:10:32.172248",
     "exception": false,
     "start_time": "2023-02-05T10:10:32.139453",
     "status": "completed"
    },
    "tags": []
   },
   "outputs": [],
   "source": [
    "#Merging the two dataframes\n",
    "df = temp_df.merge(data, left_index=True, right_index=True)"
   ]
  },
  {
   "cell_type": "code",
   "execution_count": 16,
   "id": "d716baf2",
   "metadata": {
    "execution": {
     "iopub.execute_input": "2023-02-05T10:10:32.218896Z",
     "iopub.status.busy": "2023-02-05T10:10:32.218430Z",
     "iopub.status.idle": "2023-02-05T10:10:32.223366Z",
     "shell.execute_reply": "2023-02-05T10:10:32.222150Z"
    },
    "id": "9G-aLHU2h4B1",
    "papermill": {
     "duration": 0.031569,
     "end_time": "2023-02-05T10:10:32.225891",
     "exception": false,
     "start_time": "2023-02-05T10:10:32.194322",
     "status": "completed"
    },
    "tags": []
   },
   "outputs": [],
   "source": [
    "#initiating the LabelEncoder object\n",
    "encoder = LabelEncoder()"
   ]
  },
  {
   "cell_type": "code",
   "execution_count": 17,
   "id": "7d202259",
   "metadata": {
    "execution": {
     "iopub.execute_input": "2023-02-05T10:10:32.272717Z",
     "iopub.status.busy": "2023-02-05T10:10:32.272294Z",
     "iopub.status.idle": "2023-02-05T10:10:32.278656Z",
     "shell.execute_reply": "2023-02-05T10:10:32.277700Z"
    },
    "id": "SHJo74Tuh7EU",
    "papermill": {
     "duration": 0.032548,
     "end_time": "2023-02-05T10:10:32.280901",
     "exception": false,
     "start_time": "2023-02-05T10:10:32.248353",
     "status": "completed"
    },
    "tags": []
   },
   "outputs": [],
   "source": [
    "#fitting and transforming the Target variable\n",
    "df.Drug = encoder.fit_transform(df.Drug)"
   ]
  },
  {
   "cell_type": "code",
   "execution_count": 18,
   "id": "02c1ce1c",
   "metadata": {
    "execution": {
     "iopub.execute_input": "2023-02-05T10:10:32.328490Z",
     "iopub.status.busy": "2023-02-05T10:10:32.327426Z",
     "iopub.status.idle": "2023-02-05T10:10:32.344142Z",
     "shell.execute_reply": "2023-02-05T10:10:32.342846Z"
    },
    "id": "QoCsegIHg7fF",
    "outputId": "eb990019-3f8c-4a13-88b9-bda7d97488b5",
    "papermill": {
     "duration": 0.04287,
     "end_time": "2023-02-05T10:10:32.346857",
     "exception": false,
     "start_time": "2023-02-05T10:10:32.303987",
     "status": "completed"
    },
    "tags": []
   },
   "outputs": [
    {
     "data": {
      "text/html": [
       "<div>\n",
       "<style scoped>\n",
       "    .dataframe tbody tr th:only-of-type {\n",
       "        vertical-align: middle;\n",
       "    }\n",
       "\n",
       "    .dataframe tbody tr th {\n",
       "        vertical-align: top;\n",
       "    }\n",
       "\n",
       "    .dataframe thead th {\n",
       "        text-align: right;\n",
       "    }\n",
       "</style>\n",
       "<table border=\"1\" class=\"dataframe\">\n",
       "  <thead>\n",
       "    <tr style=\"text-align: right;\">\n",
       "      <th></th>\n",
       "      <th>Sex_F</th>\n",
       "      <th>Sex_M</th>\n",
       "      <th>BP_HIGH</th>\n",
       "      <th>BP_LOW</th>\n",
       "      <th>BP_NORMAL</th>\n",
       "      <th>Cholesterol_HIGH</th>\n",
       "      <th>Cholesterol_NORMAL</th>\n",
       "      <th>Age</th>\n",
       "      <th>Sex</th>\n",
       "      <th>BP</th>\n",
       "      <th>Cholesterol</th>\n",
       "      <th>Na_to_K</th>\n",
       "      <th>Drug</th>\n",
       "    </tr>\n",
       "  </thead>\n",
       "  <tbody>\n",
       "    <tr>\n",
       "      <th>0</th>\n",
       "      <td>1</td>\n",
       "      <td>0</td>\n",
       "      <td>1</td>\n",
       "      <td>0</td>\n",
       "      <td>0</td>\n",
       "      <td>1</td>\n",
       "      <td>0</td>\n",
       "      <td>23</td>\n",
       "      <td>F</td>\n",
       "      <td>HIGH</td>\n",
       "      <td>HIGH</td>\n",
       "      <td>25.35500</td>\n",
       "      <td>0</td>\n",
       "    </tr>\n",
       "    <tr>\n",
       "      <th>1</th>\n",
       "      <td>0</td>\n",
       "      <td>1</td>\n",
       "      <td>0</td>\n",
       "      <td>1</td>\n",
       "      <td>0</td>\n",
       "      <td>1</td>\n",
       "      <td>0</td>\n",
       "      <td>47</td>\n",
       "      <td>M</td>\n",
       "      <td>LOW</td>\n",
       "      <td>HIGH</td>\n",
       "      <td>13.09300</td>\n",
       "      <td>3</td>\n",
       "    </tr>\n",
       "    <tr>\n",
       "      <th>2</th>\n",
       "      <td>0</td>\n",
       "      <td>1</td>\n",
       "      <td>0</td>\n",
       "      <td>1</td>\n",
       "      <td>0</td>\n",
       "      <td>1</td>\n",
       "      <td>0</td>\n",
       "      <td>47</td>\n",
       "      <td>M</td>\n",
       "      <td>LOW</td>\n",
       "      <td>HIGH</td>\n",
       "      <td>10.11400</td>\n",
       "      <td>3</td>\n",
       "    </tr>\n",
       "    <tr>\n",
       "      <th>3</th>\n",
       "      <td>1</td>\n",
       "      <td>0</td>\n",
       "      <td>0</td>\n",
       "      <td>0</td>\n",
       "      <td>1</td>\n",
       "      <td>1</td>\n",
       "      <td>0</td>\n",
       "      <td>28</td>\n",
       "      <td>F</td>\n",
       "      <td>NORMAL</td>\n",
       "      <td>HIGH</td>\n",
       "      <td>7.79800</td>\n",
       "      <td>4</td>\n",
       "    </tr>\n",
       "    <tr>\n",
       "      <th>4</th>\n",
       "      <td>1</td>\n",
       "      <td>0</td>\n",
       "      <td>0</td>\n",
       "      <td>1</td>\n",
       "      <td>0</td>\n",
       "      <td>1</td>\n",
       "      <td>0</td>\n",
       "      <td>61</td>\n",
       "      <td>F</td>\n",
       "      <td>LOW</td>\n",
       "      <td>HIGH</td>\n",
       "      <td>18.04300</td>\n",
       "      <td>0</td>\n",
       "    </tr>\n",
       "  </tbody>\n",
       "</table>\n",
       "</div>"
      ],
      "text/plain": [
       "   Sex_F  Sex_M  BP_HIGH  BP_LOW  BP_NORMAL  Cholesterol_HIGH  \\\n",
       "0      1      0        1       0          0                 1   \n",
       "1      0      1        0       1          0                 1   \n",
       "2      0      1        0       1          0                 1   \n",
       "3      1      0        0       0          1                 1   \n",
       "4      1      0        0       1          0                 1   \n",
       "\n",
       "   Cholesterol_NORMAL  Age Sex      BP Cholesterol  Na_to_K  Drug  \n",
       "0                   0   23   F    HIGH        HIGH 25.35500     0  \n",
       "1                   0   47   M     LOW        HIGH 13.09300     3  \n",
       "2                   0   47   M     LOW        HIGH 10.11400     3  \n",
       "3                   0   28   F  NORMAL        HIGH  7.79800     4  \n",
       "4                   0   61   F     LOW        HIGH 18.04300     0  "
      ]
     },
     "execution_count": 18,
     "metadata": {},
     "output_type": "execute_result"
    }
   ],
   "source": [
    "df.head()"
   ]
  },
  {
   "cell_type": "code",
   "execution_count": 19,
   "id": "dad528d2",
   "metadata": {
    "execution": {
     "iopub.execute_input": "2023-02-05T10:10:32.393427Z",
     "iopub.status.busy": "2023-02-05T10:10:32.392966Z",
     "iopub.status.idle": "2023-02-05T10:10:32.401529Z",
     "shell.execute_reply": "2023-02-05T10:10:32.400382Z"
    },
    "id": "oeaeSzUNiLDz",
    "papermill": {
     "duration": 0.035163,
     "end_time": "2023-02-05T10:10:32.404481",
     "exception": false,
     "start_time": "2023-02-05T10:10:32.369318",
     "status": "completed"
    },
    "tags": []
   },
   "outputs": [],
   "source": [
    "#Dropping the columns with the object datatype now that OneHotEncoding is done\n",
    "df = df.select_dtypes(exclude='object')"
   ]
  },
  {
   "cell_type": "code",
   "execution_count": 20,
   "id": "c6095cdd",
   "metadata": {
    "execution": {
     "iopub.execute_input": "2023-02-05T10:10:32.451445Z",
     "iopub.status.busy": "2023-02-05T10:10:32.451036Z",
     "iopub.status.idle": "2023-02-05T10:10:32.465732Z",
     "shell.execute_reply": "2023-02-05T10:10:32.464480Z"
    },
    "id": "dS9bwdqlii9s",
    "outputId": "7a42212f-75b1-44ba-898e-cb29ffa5fec7",
    "papermill": {
     "duration": 0.041434,
     "end_time": "2023-02-05T10:10:32.468447",
     "exception": false,
     "start_time": "2023-02-05T10:10:32.427013",
     "status": "completed"
    },
    "tags": []
   },
   "outputs": [
    {
     "data": {
      "text/html": [
       "<div>\n",
       "<style scoped>\n",
       "    .dataframe tbody tr th:only-of-type {\n",
       "        vertical-align: middle;\n",
       "    }\n",
       "\n",
       "    .dataframe tbody tr th {\n",
       "        vertical-align: top;\n",
       "    }\n",
       "\n",
       "    .dataframe thead th {\n",
       "        text-align: right;\n",
       "    }\n",
       "</style>\n",
       "<table border=\"1\" class=\"dataframe\">\n",
       "  <thead>\n",
       "    <tr style=\"text-align: right;\">\n",
       "      <th></th>\n",
       "      <th>Sex_F</th>\n",
       "      <th>Sex_M</th>\n",
       "      <th>BP_HIGH</th>\n",
       "      <th>BP_LOW</th>\n",
       "      <th>BP_NORMAL</th>\n",
       "      <th>Cholesterol_HIGH</th>\n",
       "      <th>Cholesterol_NORMAL</th>\n",
       "      <th>Age</th>\n",
       "      <th>Na_to_K</th>\n",
       "      <th>Drug</th>\n",
       "    </tr>\n",
       "  </thead>\n",
       "  <tbody>\n",
       "    <tr>\n",
       "      <th>0</th>\n",
       "      <td>1</td>\n",
       "      <td>0</td>\n",
       "      <td>1</td>\n",
       "      <td>0</td>\n",
       "      <td>0</td>\n",
       "      <td>1</td>\n",
       "      <td>0</td>\n",
       "      <td>23</td>\n",
       "      <td>25.35500</td>\n",
       "      <td>0</td>\n",
       "    </tr>\n",
       "    <tr>\n",
       "      <th>1</th>\n",
       "      <td>0</td>\n",
       "      <td>1</td>\n",
       "      <td>0</td>\n",
       "      <td>1</td>\n",
       "      <td>0</td>\n",
       "      <td>1</td>\n",
       "      <td>0</td>\n",
       "      <td>47</td>\n",
       "      <td>13.09300</td>\n",
       "      <td>3</td>\n",
       "    </tr>\n",
       "    <tr>\n",
       "      <th>2</th>\n",
       "      <td>0</td>\n",
       "      <td>1</td>\n",
       "      <td>0</td>\n",
       "      <td>1</td>\n",
       "      <td>0</td>\n",
       "      <td>1</td>\n",
       "      <td>0</td>\n",
       "      <td>47</td>\n",
       "      <td>10.11400</td>\n",
       "      <td>3</td>\n",
       "    </tr>\n",
       "    <tr>\n",
       "      <th>3</th>\n",
       "      <td>1</td>\n",
       "      <td>0</td>\n",
       "      <td>0</td>\n",
       "      <td>0</td>\n",
       "      <td>1</td>\n",
       "      <td>1</td>\n",
       "      <td>0</td>\n",
       "      <td>28</td>\n",
       "      <td>7.79800</td>\n",
       "      <td>4</td>\n",
       "    </tr>\n",
       "    <tr>\n",
       "      <th>4</th>\n",
       "      <td>1</td>\n",
       "      <td>0</td>\n",
       "      <td>0</td>\n",
       "      <td>1</td>\n",
       "      <td>0</td>\n",
       "      <td>1</td>\n",
       "      <td>0</td>\n",
       "      <td>61</td>\n",
       "      <td>18.04300</td>\n",
       "      <td>0</td>\n",
       "    </tr>\n",
       "  </tbody>\n",
       "</table>\n",
       "</div>"
      ],
      "text/plain": [
       "   Sex_F  Sex_M  BP_HIGH  BP_LOW  BP_NORMAL  Cholesterol_HIGH  \\\n",
       "0      1      0        1       0          0                 1   \n",
       "1      0      1        0       1          0                 1   \n",
       "2      0      1        0       1          0                 1   \n",
       "3      1      0        0       0          1                 1   \n",
       "4      1      0        0       1          0                 1   \n",
       "\n",
       "   Cholesterol_NORMAL  Age  Na_to_K  Drug  \n",
       "0                   0   23 25.35500     0  \n",
       "1                   0   47 13.09300     3  \n",
       "2                   0   47 10.11400     3  \n",
       "3                   0   28  7.79800     4  \n",
       "4                   0   61 18.04300     0  "
      ]
     },
     "execution_count": 20,
     "metadata": {},
     "output_type": "execute_result"
    }
   ],
   "source": [
    "df.head()"
   ]
  },
  {
   "cell_type": "code",
   "execution_count": 21,
   "id": "7f8a681e",
   "metadata": {
    "execution": {
     "iopub.execute_input": "2023-02-05T10:10:32.515931Z",
     "iopub.status.busy": "2023-02-05T10:10:32.515472Z",
     "iopub.status.idle": "2023-02-05T10:10:32.532213Z",
     "shell.execute_reply": "2023-02-05T10:10:32.530928Z"
    },
    "id": "rmA_a1hEnkmN",
    "outputId": "ee6fe8d6-ac74-45a8-a316-fd093861a6b1",
    "papermill": {
     "duration": 0.043484,
     "end_time": "2023-02-05T10:10:32.534950",
     "exception": false,
     "start_time": "2023-02-05T10:10:32.491466",
     "status": "completed"
    },
    "tags": []
   },
   "outputs": [
    {
     "name": "stdout",
     "output_type": "stream",
     "text": [
      "Success!\n"
     ]
    }
   ],
   "source": [
    "# Saving all feature names to a list in a variable\n",
    "dataColumns = ['Age', 'Na_to_K']\n",
    "\n",
    "#Initiating the StandardScaler object\n",
    "scaler = StandardScaler()\n",
    "\n",
    "#transforming only the Age and Na_to_K columns using a for loop\n",
    "for i in dataColumns:\n",
    "    df[i] = scaler.fit_transform(df[[i]])\n",
    "\n",
    "print('Success!')"
   ]
  },
  {
   "cell_type": "code",
   "execution_count": 22,
   "id": "a8a08113",
   "metadata": {
    "execution": {
     "iopub.execute_input": "2023-02-05T10:10:32.581975Z",
     "iopub.status.busy": "2023-02-05T10:10:32.581523Z",
     "iopub.status.idle": "2023-02-05T10:10:32.595358Z",
     "shell.execute_reply": "2023-02-05T10:10:32.594128Z"
    },
    "id": "0npsjDCuiwU9",
    "outputId": "4e6059ba-eea6-4f6f-d1b3-e3c1bcd950dd",
    "papermill": {
     "duration": 0.04017,
     "end_time": "2023-02-05T10:10:32.597858",
     "exception": false,
     "start_time": "2023-02-05T10:10:32.557688",
     "status": "completed"
    },
    "tags": []
   },
   "outputs": [
    {
     "data": {
      "text/html": [
       "<div>\n",
       "<style scoped>\n",
       "    .dataframe tbody tr th:only-of-type {\n",
       "        vertical-align: middle;\n",
       "    }\n",
       "\n",
       "    .dataframe tbody tr th {\n",
       "        vertical-align: top;\n",
       "    }\n",
       "\n",
       "    .dataframe thead th {\n",
       "        text-align: right;\n",
       "    }\n",
       "</style>\n",
       "<table border=\"1\" class=\"dataframe\">\n",
       "  <thead>\n",
       "    <tr style=\"text-align: right;\">\n",
       "      <th></th>\n",
       "      <th>Sex_F</th>\n",
       "      <th>Sex_M</th>\n",
       "      <th>BP_HIGH</th>\n",
       "      <th>BP_LOW</th>\n",
       "      <th>BP_NORMAL</th>\n",
       "      <th>Cholesterol_HIGH</th>\n",
       "      <th>Cholesterol_NORMAL</th>\n",
       "      <th>Age</th>\n",
       "      <th>Na_to_K</th>\n",
       "      <th>Drug</th>\n",
       "    </tr>\n",
       "  </thead>\n",
       "  <tbody>\n",
       "    <tr>\n",
       "      <th>0</th>\n",
       "      <td>1</td>\n",
       "      <td>0</td>\n",
       "      <td>1</td>\n",
       "      <td>0</td>\n",
       "      <td>0</td>\n",
       "      <td>1</td>\n",
       "      <td>0</td>\n",
       "      <td>-1.29159</td>\n",
       "      <td>1.28652</td>\n",
       "      <td>0</td>\n",
       "    </tr>\n",
       "    <tr>\n",
       "      <th>1</th>\n",
       "      <td>0</td>\n",
       "      <td>1</td>\n",
       "      <td>0</td>\n",
       "      <td>1</td>\n",
       "      <td>0</td>\n",
       "      <td>1</td>\n",
       "      <td>0</td>\n",
       "      <td>0.16270</td>\n",
       "      <td>-0.41515</td>\n",
       "      <td>3</td>\n",
       "    </tr>\n",
       "    <tr>\n",
       "      <th>2</th>\n",
       "      <td>0</td>\n",
       "      <td>1</td>\n",
       "      <td>0</td>\n",
       "      <td>1</td>\n",
       "      <td>0</td>\n",
       "      <td>1</td>\n",
       "      <td>0</td>\n",
       "      <td>0.16270</td>\n",
       "      <td>-0.82856</td>\n",
       "      <td>3</td>\n",
       "    </tr>\n",
       "    <tr>\n",
       "      <th>3</th>\n",
       "      <td>1</td>\n",
       "      <td>0</td>\n",
       "      <td>0</td>\n",
       "      <td>0</td>\n",
       "      <td>1</td>\n",
       "      <td>1</td>\n",
       "      <td>0</td>\n",
       "      <td>-0.98861</td>\n",
       "      <td>-1.14996</td>\n",
       "      <td>4</td>\n",
       "    </tr>\n",
       "    <tr>\n",
       "      <th>4</th>\n",
       "      <td>1</td>\n",
       "      <td>0</td>\n",
       "      <td>0</td>\n",
       "      <td>1</td>\n",
       "      <td>0</td>\n",
       "      <td>1</td>\n",
       "      <td>0</td>\n",
       "      <td>1.01103</td>\n",
       "      <td>0.27179</td>\n",
       "      <td>0</td>\n",
       "    </tr>\n",
       "  </tbody>\n",
       "</table>\n",
       "</div>"
      ],
      "text/plain": [
       "   Sex_F  Sex_M  BP_HIGH  BP_LOW  BP_NORMAL  Cholesterol_HIGH  \\\n",
       "0      1      0        1       0          0                 1   \n",
       "1      0      1        0       1          0                 1   \n",
       "2      0      1        0       1          0                 1   \n",
       "3      1      0        0       0          1                 1   \n",
       "4      1      0        0       1          0                 1   \n",
       "\n",
       "   Cholesterol_NORMAL      Age  Na_to_K  Drug  \n",
       "0                   0 -1.29159  1.28652     0  \n",
       "1                   0  0.16270 -0.41515     3  \n",
       "2                   0  0.16270 -0.82856     3  \n",
       "3                   0 -0.98861 -1.14996     4  \n",
       "4                   0  1.01103  0.27179     0  "
      ]
     },
     "execution_count": 22,
     "metadata": {},
     "output_type": "execute_result"
    }
   ],
   "source": [
    "df.head()"
   ]
  },
  {
   "cell_type": "markdown",
   "id": "776d2e60",
   "metadata": {
    "id": "becXVphEx9o8",
    "papermill": {
     "duration": 0.022264,
     "end_time": "2023-02-05T10:10:32.642707",
     "exception": false,
     "start_time": "2023-02-05T10:10:32.620443",
     "status": "completed"
    },
    "tags": []
   },
   "source": [
    "**Observation:**\n",
    "\n",
    "- Now that we have **successfully transformed and scaled** our data let's move ahead."
   ]
  },
  {
   "attachments": {},
   "cell_type": "markdown",
   "id": "ee29d887",
   "metadata": {
    "id": "wKMO-FpqyJhz",
    "papermill": {
     "duration": 0.022126,
     "end_time": "2023-02-05T10:10:32.688060",
     "exception": false,
     "start_time": "2023-02-05T10:10:32.665934",
     "status": "completed"
    },
    "tags": []
   },
   "source": [
    "<a name = Section72></a>\n",
    "### **5.2 Feature Selection using Random Forest**\n",
    "\n",
    "- Now in **real world**, it is very **rare** that **all** the **features** are **important** while developing the model.\n",
    "\n",
    "- So **instead** we **analyze** the **impact** of **input over the target** feature.\n",
    "\n",
    "- We do so by either performing **statistical** **tests** (Pearson, ANOVA, Chi-Square) or by using **Random Forest**.\n",
    "\n",
    "- **Random forests** are one the most **popular machine learning algorithms** because they **provide**:\n",
    " - **a good predictive performance**,\n",
    " - **low overfitting and**\n",
    " - **easy interpretability.**\n",
    "\n",
    "- This **interpretability** is **derived** from the **importance of each feature** on the tree decision **evaluated** on the **reduction** in **impurity**.\n",
    "\n",
    "- In other words, it is **easy to compute** how much **each feature is contributing** to the **decision**.\n",
    "\n",
    "- **Below** we have **implemented** a function namely, **SelectFromModel** **available** in **Sklearn** which **uses** the **base estimator** to **identify** **important features**.\n",
    "\n",
    "- The **importance** of feature is **determined** on the **basis** of **threshold** (a measure to calculate feature importance)."
   ]
  },
  {
   "cell_type": "code",
   "execution_count": 23,
   "id": "c216c908",
   "metadata": {
    "execution": {
     "iopub.execute_input": "2023-02-05T10:10:32.735380Z",
     "iopub.status.busy": "2023-02-05T10:10:32.734942Z",
     "iopub.status.idle": "2023-02-05T10:10:32.741617Z",
     "shell.execute_reply": "2023-02-05T10:10:32.740394Z"
    },
    "id": "zPLc73Gox60r",
    "papermill": {
     "duration": 0.033785,
     "end_time": "2023-02-05T10:10:32.744323",
     "exception": false,
     "start_time": "2023-02-05T10:10:32.710538",
     "status": "completed"
    },
    "tags": []
   },
   "outputs": [],
   "source": [
    "#Selecting the X and Y values for model training \n",
    "y = df['Drug']\n",
    "X = df.drop('Drug', axis = 1)"
   ]
  },
  {
   "cell_type": "code",
   "execution_count": 24,
   "id": "84f4a4b9",
   "metadata": {
    "execution": {
     "iopub.execute_input": "2023-02-05T10:10:32.793101Z",
     "iopub.status.busy": "2023-02-05T10:10:32.792629Z",
     "iopub.status.idle": "2023-02-05T10:10:33.462079Z",
     "shell.execute_reply": "2023-02-05T10:10:33.460666Z"
    },
    "id": "fB8LYuzbyYG9",
    "outputId": "1a896908-bc6b-413c-9548-15ea0b3d28b7",
    "papermill": {
     "duration": 0.697857,
     "end_time": "2023-02-05T10:10:33.465277",
     "exception": false,
     "start_time": "2023-02-05T10:10:32.767420",
     "status": "completed"
    },
    "tags": []
   },
   "outputs": [
    {
     "name": "stdout",
     "output_type": "stream",
     "text": [
      "Total Features Selected are 3\n",
      "Threshold set by Model: 0.11\n",
      "Features: ['BP_HIGH', 'Age', 'Na_to_K']\n"
     ]
    }
   ],
   "source": [
    "# Have some patience, may take some time :)\n",
    "selector = SelectFromModel(RandomForestClassifier(n_estimators = 100, random_state = 42, n_jobs = -1))\n",
    "selector.fit(X, y)\n",
    "\n",
    "# Extracting list of important features\n",
    "selected_feat = X.columns[(selector.get_support())].tolist()\n",
    "\n",
    "print('Total Features Selected are', len(selected_feat))\n",
    "\n",
    "# Estimated by taking mean(default) of feature importance\n",
    "print('Threshold set by Model:', np.round(selector.threshold_, decimals = 2))\n",
    "print('Features:', selected_feat)"
   ]
  },
  {
   "cell_type": "markdown",
   "id": "e24a9cf2",
   "metadata": {
    "id": "Jug5rXOSy9Uk",
    "papermill": {
     "duration": 0.023087,
     "end_time": "2023-02-05T10:10:33.512265",
     "exception": false,
     "start_time": "2023-02-05T10:10:33.489178",
     "status": "completed"
    },
    "tags": []
   },
   "source": [
    "**Visualization of Important Features:**\n",
    "\n",
    "- Below features are plotted against their relative importance (in %age),  of each feature."
   ]
  },
  {
   "cell_type": "code",
   "execution_count": 25,
   "id": "59c89075",
   "metadata": {
    "execution": {
     "iopub.execute_input": "2023-02-05T10:10:33.562085Z",
     "iopub.status.busy": "2023-02-05T10:10:33.560852Z",
     "iopub.status.idle": "2023-02-05T10:10:34.203184Z",
     "shell.execute_reply": "2023-02-05T10:10:34.201861Z"
    },
    "id": "7bY76yi6y6B3",
    "outputId": "3d796f4c-5879-4445-fe2a-cbad768646d7",
    "papermill": {
     "duration": 0.670142,
     "end_time": "2023-02-05T10:10:34.206219",
     "exception": false,
     "start_time": "2023-02-05T10:10:33.536077",
     "status": "completed"
    },
    "tags": []
   },
   "outputs": [
    {
     "data": {
      "image/png": "[encoded data removed]",
      "text/plain": [
       "<Figure size 1440x864 with 1 Axes>"
      ]
     },
     "metadata": {},
     "output_type": "display_data"
    }
   ],
   "source": [
    "figure = plt.figure(figsize = [20, 12])\n",
    "\n",
    "# If you don't want relative importance, use relative = False in below method\n",
    "viz = FeatureImportances(selector.estimator, relative = False)\n",
    "viz.fit(X, y)\n",
    "\n",
    "plt.xlabel('Relative Importance', size = 14)\n",
    "plt.ylabel('Features', size = 14)\n",
    "plt.title(label = 'Feature Importances', size = 16)\n",
    "plt.show()"
   ]
  },
  {
   "cell_type": "markdown",
   "id": "fdd9c576",
   "metadata": {
    "id": "eFXBYX_msIan",
    "papermill": {
     "duration": 0.02413,
     "end_time": "2023-02-05T10:10:34.254280",
     "exception": false,
     "start_time": "2023-02-05T10:10:34.230150",
     "status": "completed"
    },
    "tags": []
   },
   "source": [
    "**Observation:**\n",
    "\n",
    "- We can observe that random forest has finalized 3 features \n",
    "\n",
    "- Now we will move to data preparation for model development."
   ]
  },
  {
   "attachments": {},
   "cell_type": "markdown",
   "id": "23a89a84",
   "metadata": {
    "id": "NLHnQO0r8vj8",
    "papermill": {
     "duration": 0.024644,
     "end_time": "2023-02-05T10:10:34.302822",
     "exception": false,
     "start_time": "2023-02-05T10:10:34.278178",
     "status": "completed"
    },
    "tags": []
   },
   "source": [
    "<a name = Section73></a>\n",
    "### **5.3 Data Preparation**\n",
    "\n",
    "- Now we will **split** our **data** in **training** and **testing** part for further development."
   ]
  },
  {
   "cell_type": "code",
   "execution_count": 26,
   "id": "d9407343",
   "metadata": {
    "execution": {
     "iopub.execute_input": "2023-02-05T10:10:34.354584Z",
     "iopub.status.busy": "2023-02-05T10:10:34.354120Z",
     "iopub.status.idle": "2023-02-05T10:10:34.360360Z",
     "shell.execute_reply": "2023-02-05T10:10:34.359371Z"
    },
    "id": "tY3teL_l8vRH",
    "papermill": {
     "duration": 0.03603,
     "end_time": "2023-02-05T10:10:34.362901",
     "exception": false,
     "start_time": "2023-02-05T10:10:34.326871",
     "status": "completed"
    },
    "tags": []
   },
   "outputs": [],
   "source": [
    "#Creating X values using the 3 columns RandomForest model had selected \n",
    "X = df[selected_feat]"
   ]
  },
  {
   "cell_type": "code",
   "execution_count": 27,
   "id": "19665301",
   "metadata": {
    "execution": {
     "iopub.execute_input": "2023-02-05T10:10:34.414663Z",
     "iopub.status.busy": "2023-02-05T10:10:34.413807Z",
     "iopub.status.idle": "2023-02-05T10:10:34.423824Z",
     "shell.execute_reply": "2023-02-05T10:10:34.422217Z"
    },
    "id": "Q_fsPzQcBUcR",
    "outputId": "7279fe8c-7192-40ac-c6c6-44aa1efad4c6",
    "papermill": {
     "duration": 0.038683,
     "end_time": "2023-02-05T10:10:34.426853",
     "exception": false,
     "start_time": "2023-02-05T10:10:34.388170",
     "status": "completed"
    },
    "tags": []
   },
   "outputs": [
    {
     "name": "stdout",
     "output_type": "stream",
     "text": [
      "Training Data Shape: (180, 3) (180,)\n",
      "Testing Data Shape: (20, 3) (20,)\n"
     ]
    }
   ],
   "source": [
    "#Splitting the data (Ps It is still imbalanced)\n",
    "X_train, X_test, y_train, y_test = train_test_split(X, y, test_size = 0.1, random_state = 42, stratify = y)\n",
    "\n",
    "print('Training Data Shape:', X_train.shape, y_train.shape)\n",
    "print('Testing Data Shape:', X_test.shape, y_test.shape)"
   ]
  },
  {
   "attachments": {},
   "cell_type": "markdown",
   "id": "53d0866c",
   "metadata": {
    "id": "PBz50xP-Ba67",
    "papermill": {
     "duration": 0.023783,
     "end_time": "2023-02-05T10:10:34.475078",
     "exception": false,
     "start_time": "2023-02-05T10:10:34.451295",
     "status": "completed"
    },
    "tags": []
   },
   "source": [
    "<a name = Section8></a>\n",
    "\n",
    "---\n",
    "# **6. Model Development & Evaluation**\n",
    "---\n",
    "\n",
    "- In this section we will **develop Gaussian Naive Bayes using important features** and **tune** our **model if required**.\n",
    "\n",
    "- Then we will **analyze the results** obtained and **make our observation**.\n",
    "\n",
    "- For **evaluation purpose** we will **focus** on **precision and recall value** for **positive class** i.e. fraudulent class.\n",
    "\n",
    "- **Remember** that **we want generalize results** i.e. same results or error on testing data as that of training data.\n",
    "\n",
    "- We will **observer** **whether** the **SMOTE** is **required** or not **because** we want to **focus** on **precision and recall** values of **positive class**."
   ]
  },
  {
   "cell_type": "code",
   "execution_count": 28,
   "id": "6b5f64e8",
   "metadata": {
    "execution": {
     "iopub.execute_input": "2023-02-05T10:10:34.524374Z",
     "iopub.status.busy": "2023-02-05T10:10:34.523532Z",
     "iopub.status.idle": "2023-02-05T10:10:34.534522Z",
     "shell.execute_reply": "2023-02-05T10:10:34.533160Z"
    },
    "id": "zbQdB_-uBngR",
    "papermill": {
     "duration": 0.038892,
     "end_time": "2023-02-05T10:10:34.537410",
     "exception": false,
     "start_time": "2023-02-05T10:10:34.498518",
     "status": "completed"
    },
    "tags": []
   },
   "outputs": [],
   "source": [
    "def plot_precision_recall(y_true, y_pred, train_or_test):\n",
    "    '''\n",
    "      y_true: Acutal values of the target\n",
    "      y_pred: Predicted values of the target. Either predict_proba or decision_function\n",
    "      line_show: Plot avergae values \"precision\" or \"recall\"\n",
    "      train_or_test: Train Data or Test Data\n",
    "    '''\n",
    "    precisions, recalls, thresholds = precision_recall_curve(y_true = y_true, probas_pred = y_pred)\n",
    "    average_precision = np.mean(precisions)\n",
    "    average_recall = np.mean(recalls)\n",
    "\n",
    "    sns.lineplot(x = recalls, y = precisions, linewidth = 2, ci = None)\n",
    "    plt.plot([0, 1], [average_precision, average_precision], 'r-')\n",
    "    plt.plot([average_recall, average_recall], [0, 1], 'g-')\n",
    "    plt.xlabel('Recall', fontsize = 14)\n",
    "    plt.xticks(ticks = [0, 0.1, 0.2, 0.3, 0.4, 0.5, 0.6, 0.7, 0.8, 0.9, 1.0])\n",
    "    plt.yticks(ticks = [0, 0.1, 0.2, 0.3, 0.4, 0.5, 0.6, 0.7, 0.8, 0.9, 1.0])\n",
    "    plt.ylabel('Precision', fontsize = 14)\n",
    "    plt.title(train_or_test, fontsize = 16)\n",
    "    plt.legend(labels = ['Binary PR Curve', 'AP {:.2f}'.format(average_precision), 'AR {:.2f}'.format(average_recall)])\n",
    "    plt.grid(True)"
   ]
  },
  {
   "attachments": {},
   "cell_type": "markdown",
   "id": "9cc0b11d",
   "metadata": {
    "id": "KhazCN09BsMr",
    "papermill": {
     "duration": 0.022968,
     "end_time": "2023-02-05T10:10:34.583576",
     "exception": false,
     "start_time": "2023-02-05T10:10:34.560608",
     "status": "completed"
    },
    "tags": []
   },
   "source": [
    "<a name = Section81></a>\n",
    "\n",
    "## **6.1 Naive Bayes - Baseline Model**"
   ]
  },
  {
   "cell_type": "code",
   "execution_count": 29,
   "id": "70962d5d",
   "metadata": {
    "execution": {
     "iopub.execute_input": "2023-02-05T10:10:34.634573Z",
     "iopub.status.busy": "2023-02-05T10:10:34.633652Z",
     "iopub.status.idle": "2023-02-05T10:10:35.346425Z",
     "shell.execute_reply": "2023-02-05T10:10:35.345170Z"
    },
    "id": "dZnLg2GdBqOc",
    "outputId": "4bde2556-f41d-4ab2-ccd9-4490672e01f9",
    "papermill": {
     "duration": 0.74227,
     "end_time": "2023-02-05T10:10:35.349874",
     "exception": false,
     "start_time": "2023-02-05T10:10:34.607604",
     "status": "completed"
    },
    "tags": []
   },
   "outputs": [
    {
     "data": {
      "image/png": "[encoded data removed]",
      "text/plain": [
       "<Figure size 1080x504 with 4 Axes>"
      ]
     },
     "metadata": {},
     "output_type": "display_data"
    }
   ],
   "source": [
    "naive = GaussianNB()\n",
    "naive.fit(X_train, y_train)\n",
    "\n",
    "y_train_pred_count = naive.predict(X_train)\n",
    "y_test_pred_count = naive.predict(X_test)\n",
    "\n",
    "y_train_pred_proba = naive.predict_proba(X_train)\n",
    "y_test_pred_proba = naive.predict_proba(X_test)\n",
    "\n",
    "fig, (ax1, ax2) = plt.subplots(nrows = 1, ncols = 2, sharex = False, figsize=(15, 7))\n",
    "plot_confusion_matrix(estimator = naive, X = X_train, y_true = y_train, values_format = '.7g', cmap = 'YlGnBu', ax = ax1)\n",
    "plot_confusion_matrix(estimator = naive, X = X_test, y_true = y_test, values_format = '.7g', cmap = 'YlGnBu', ax = ax2)\n",
    "ax1.set_title(label = 'Train Data', size = 14)\n",
    "ax2.set_title(label = 'Test Data', size = 14)\n",
    "ax1.grid(b = False)\n",
    "ax2.grid(b = False)\n",
    "plt.suptitle(t = 'Confusion Matrix', size = 16)\n",
    "plt.show()"
   ]
  },
  {
   "cell_type": "markdown",
   "id": "011172b6",
   "metadata": {
    "id": "awyUmLeYGmZz",
    "papermill": {
     "duration": 0.025009,
     "end_time": "2023-02-05T10:10:35.400577",
     "exception": false,
     "start_time": "2023-02-05T10:10:35.375568",
     "status": "completed"
    },
    "tags": []
   },
   "source": [
    "**Observation:**\n",
    "\n",
    "- **Train Data:**\n",
    "  - Model is making maximum misclassification in Drug 1 and Drug 5\n",
    "\n",
    "- **Test Data:**\n",
    "  - Model is making maximum misclassification in Drug 1 and Drug 5"
   ]
  },
  {
   "cell_type": "code",
   "execution_count": 30,
   "id": "8857cf3b",
   "metadata": {
    "execution": {
     "iopub.execute_input": "2023-02-05T10:10:35.453251Z",
     "iopub.status.busy": "2023-02-05T10:10:35.452474Z",
     "iopub.status.idle": "2023-02-05T10:10:35.457836Z",
     "shell.execute_reply": "2023-02-05T10:10:35.456937Z"
    },
    "id": "0lCtgaQTe8Zs",
    "papermill": {
     "duration": 0.03411,
     "end_time": "2023-02-05T10:10:35.460257",
     "exception": false,
     "start_time": "2023-02-05T10:10:35.426147",
     "status": "completed"
    },
    "tags": []
   },
   "outputs": [],
   "source": [
    "def ClassificationReport(y_train, y_train_pred_count):\n",
    "    logistic_report_train = classification_report(y_train, y_train_pred_count)\n",
    "    logistic_report_test = classification_report(y_test, y_test_pred_count)\n",
    "    print('                    Training Report          ')\n",
    "    print(logistic_report_train)\n",
    "    print('                    Testing Report           ')\n",
    "    print(logistic_report_test)"
   ]
  },
  {
   "cell_type": "code",
   "execution_count": 31,
   "id": "87919b87",
   "metadata": {
    "execution": {
     "iopub.execute_input": "2023-02-05T10:10:35.511597Z",
     "iopub.status.busy": "2023-02-05T10:10:35.510326Z",
     "iopub.status.idle": "2023-02-05T10:10:35.526174Z",
     "shell.execute_reply": "2023-02-05T10:10:35.524717Z"
    },
    "id": "BC5XRYuJCOqt",
    "outputId": "b7aa4aea-b24e-4c65-8033-a8745c93c6fa",
    "papermill": {
     "duration": 0.04453,
     "end_time": "2023-02-05T10:10:35.528774",
     "exception": false,
     "start_time": "2023-02-05T10:10:35.484244",
     "status": "completed"
    },
    "tags": []
   },
   "outputs": [
    {
     "name": "stdout",
     "output_type": "stream",
     "text": [
      "                    Training Report          \n",
      "              precision    recall  f1-score   support\n",
      "\n",
      "           0       1.00      0.48      0.64        82\n",
      "           1       0.62      1.00      0.76        21\n",
      "           2       0.74      1.00      0.85        14\n",
      "           3       0.00      0.00      0.00        14\n",
      "           4       0.56      1.00      0.72        49\n",
      "\n",
      "    accuracy                           0.68       180\n",
      "   macro avg       0.58      0.70      0.59       180\n",
      "weighted avg       0.74      0.68      0.64       180\n",
      "\n",
      "                    Testing Report           \n",
      "              precision    recall  f1-score   support\n",
      "\n",
      "           0       1.00      0.78      0.88         9\n",
      "           1       1.00      1.00      1.00         2\n",
      "           2       1.00      1.00      1.00         2\n",
      "           3       0.00      0.00      0.00         2\n",
      "           4       0.56      1.00      0.71         5\n",
      "\n",
      "    accuracy                           0.80        20\n",
      "   macro avg       0.71      0.76      0.72        20\n",
      "weighted avg       0.79      0.80      0.77        20\n",
      "\n"
     ]
    }
   ],
   "source": [
    "ClassificationReport(y_train, y_train_pred_count)"
   ]
  },
  {
   "cell_type": "markdown",
   "id": "861fa6f3",
   "metadata": {
    "id": "4zL1siabCQZr",
    "papermill": {
     "duration": 0.023617,
     "end_time": "2023-02-05T10:10:35.576970",
     "exception": false,
     "start_time": "2023-02-05T10:10:35.553353",
     "status": "completed"
    },
    "tags": []
   },
   "source": [
    "**Observation:**\n",
    "\n",
    "- The **precision** score is pretty **low** in both **training** data as well as on **testing** data."
   ]
  },
  {
   "attachments": {},
   "cell_type": "markdown",
   "id": "ee29777d",
   "metadata": {
    "id": "iXAaN4ZIF80T",
    "papermill": {
     "duration": 0.024708,
     "end_time": "2023-02-05T10:10:35.625525",
     "exception": false,
     "start_time": "2023-02-05T10:10:35.600817",
     "status": "completed"
    },
    "tags": []
   },
   "source": [
    "<a name = Section82></a>\n",
    "\n",
    "## **6.2 SMOTE Technique & its Implementation**\n",
    "\n",
    "- SMOTE refers to **Synthetic Minority Oversampling Technique**.\n",
    "\n",
    "- It **aims** to **balance class distribution** by **randomly** **increasing minority class** examples **by replicating** them. \n",
    "\n",
    "- It **synthesises** **new minority instances** **between** **existing** minority **instances**. \n",
    "\n",
    "- **It generates the virtual training records by linear interpolation for the minority class.** \n",
    "\n",
    "- These synthetic training **records** are **generated** by **randomly** selection*.\n",
    "\n",
    "- It is performed by one or more of the k-nearest neighbors for each **example in the minority class**. \n",
    "\n",
    "- **After** the **oversampling process**, the **data is reconstructed** and several classification models can be applied for the processed data.\n",
    "\n",
    "<br> \n",
    "**<center><h3>Working of SMOTE</h3></center>**\n",
    "\n",
    "<center><img src = \"https://raw.githubusercontent.com/insaid2018/Term-3/master/Images/SMOTE.gif\"></center>"
   ]
  },
  {
   "cell_type": "markdown",
   "id": "1afea869",
   "metadata": {
    "id": "4mmTFFV-E54S",
    "papermill": {
     "duration": 0.024392,
     "end_time": "2023-02-05T10:10:35.674596",
     "exception": false,
     "start_time": "2023-02-05T10:10:35.650204",
     "status": "completed"
    },
    "tags": []
   },
   "source": [
    "**Before Implimenting SMOTE**"
   ]
  },
  {
   "cell_type": "code",
   "execution_count": 32,
   "id": "46ee70af",
   "metadata": {
    "execution": {
     "iopub.execute_input": "2023-02-05T10:10:35.725007Z",
     "iopub.status.busy": "2023-02-05T10:10:35.723940Z",
     "iopub.status.idle": "2023-02-05T10:10:35.731258Z",
     "shell.execute_reply": "2023-02-05T10:10:35.729692Z"
    },
    "id": "cVPTJuvaDWDH",
    "outputId": "1770ada0-7646-4c2b-c3c0-4361c1fbb6e5",
    "papermill": {
     "duration": 0.035574,
     "end_time": "2023-02-05T10:10:35.734016",
     "exception": false,
     "start_time": "2023-02-05T10:10:35.698442",
     "status": "completed"
    },
    "tags": []
   },
   "outputs": [
    {
     "name": "stdout",
     "output_type": "stream",
     "text": [
      "Training Data Shape: (180, 3) (180,)\n",
      "Testing Data Shape: (20, 3) (20,)\n"
     ]
    }
   ],
   "source": [
    "print('Training Data Shape:', X_train.shape, y_train.shape)\n",
    "print('Testing Data Shape:', X_test.shape, y_test.shape)"
   ]
  },
  {
   "cell_type": "markdown",
   "id": "93d3b093",
   "metadata": {
    "id": "EodE2HkAE8CO",
    "papermill": {
     "duration": 0.023717,
     "end_time": "2023-02-05T10:10:35.781984",
     "exception": false,
     "start_time": "2023-02-05T10:10:35.758267",
     "status": "completed"
    },
    "tags": []
   },
   "source": [
    "**Performing SMOTE Operation**"
   ]
  },
  {
   "cell_type": "code",
   "execution_count": 33,
   "id": "2f48c1db",
   "metadata": {
    "execution": {
     "iopub.execute_input": "2023-02-05T10:10:35.833679Z",
     "iopub.status.busy": "2023-02-05T10:10:35.833222Z",
     "iopub.status.idle": "2023-02-05T10:10:35.853389Z",
     "shell.execute_reply": "2023-02-05T10:10:35.852332Z"
    },
    "id": "dnum2P0YE8at",
    "papermill": {
     "duration": 0.049214,
     "end_time": "2023-02-05T10:10:35.856074",
     "exception": false,
     "start_time": "2023-02-05T10:10:35.806860",
     "status": "completed"
    },
    "tags": []
   },
   "outputs": [],
   "source": [
    "# Have some patience, may take some time\n",
    "\n",
    "sm = SMOTE(random_state = 42)\n",
    "X1, y1 = sm.fit_resample(X, y)\n",
    "\n",
    "X_new = pd.DataFrame(data = X1, columns = X.columns)\n",
    "\n",
    "#splitting the data post SMOTE\n",
    "X_train, X_test, y_train, y_test = train_test_split(X_new, y1, test_size = 0.2, random_state = 42, stratify = y1)"
   ]
  },
  {
   "cell_type": "code",
   "execution_count": 34,
   "id": "c33af3ba",
   "metadata": {
    "execution": {
     "iopub.execute_input": "2023-02-05T10:10:35.907519Z",
     "iopub.status.busy": "2023-02-05T10:10:35.906284Z",
     "iopub.status.idle": "2023-02-05T10:10:35.914380Z",
     "shell.execute_reply": "2023-02-05T10:10:35.913382Z"
    },
    "id": "gW6uCxbqFZzm",
    "outputId": "ac79067a-2be7-4082-d454-0f27d0e5a5a2",
    "papermill": {
     "duration": 0.036384,
     "end_time": "2023-02-05T10:10:35.916748",
     "exception": false,
     "start_time": "2023-02-05T10:10:35.880364",
     "status": "completed"
    },
    "tags": []
   },
   "outputs": [
    {
     "data": {
      "text/plain": [
       "0    91\n",
       "3    91\n",
       "4    91\n",
       "1    91\n",
       "2    91\n",
       "Name: Drug, dtype: int64"
      ]
     },
     "execution_count": 34,
     "metadata": {},
     "output_type": "execute_result"
    }
   ],
   "source": [
    "# Target Sample Verification\n",
    "pd.Series(y1).value_counts()"
   ]
  },
  {
   "cell_type": "markdown",
   "id": "54eff743",
   "metadata": {
    "id": "EfqQVBp7DzaF",
    "papermill": {
     "duration": 0.024119,
     "end_time": "2023-02-05T10:10:35.965587",
     "exception": false,
     "start_time": "2023-02-05T10:10:35.941468",
     "status": "completed"
    },
    "tags": []
   },
   "source": [
    "Voila!! The class imbalance in the dataset has disappeared, making it much easier for the model to NOT make any biased decisions."
   ]
  },
  {
   "cell_type": "markdown",
   "id": "38b54e52",
   "metadata": {
    "id": "BTmSj-dvFEcr",
    "papermill": {
     "duration": 0.023868,
     "end_time": "2023-02-05T10:10:36.014572",
     "exception": false,
     "start_time": "2023-02-05T10:10:35.990704",
     "status": "completed"
    },
    "tags": []
   },
   "source": [
    "**After Implimenting SMOTE**"
   ]
  },
  {
   "cell_type": "code",
   "execution_count": 35,
   "id": "bc3d6400",
   "metadata": {
    "execution": {
     "iopub.execute_input": "2023-02-05T10:10:36.065012Z",
     "iopub.status.busy": "2023-02-05T10:10:36.064187Z",
     "iopub.status.idle": "2023-02-05T10:10:36.071097Z",
     "shell.execute_reply": "2023-02-05T10:10:36.069280Z"
    },
    "id": "gxvQvQ-XFELj",
    "outputId": "56a6ea58-3b4f-40c6-dca2-bec7cea7f989",
    "papermill": {
     "duration": 0.034951,
     "end_time": "2023-02-05T10:10:36.073729",
     "exception": false,
     "start_time": "2023-02-05T10:10:36.038778",
     "status": "completed"
    },
    "tags": []
   },
   "outputs": [
    {
     "name": "stdout",
     "output_type": "stream",
     "text": [
      "Training Data Shape: (364, 3) (364,)\n",
      "Testing Data Shape: (91, 3) (91,)\n"
     ]
    }
   ],
   "source": [
    "print('Training Data Shape:', X_train.shape, y_train.shape)\n",
    "print('Testing Data Shape:', X_test.shape, y_test.shape)"
   ]
  },
  {
   "attachments": {},
   "cell_type": "markdown",
   "id": "387fe9bb",
   "metadata": {
    "id": "88EtRFU2DFSE",
    "papermill": {
     "duration": 0.024911,
     "end_time": "2023-02-05T10:10:36.123163",
     "exception": false,
     "start_time": "2023-02-05T10:10:36.098252",
     "status": "completed"
    },
    "tags": []
   },
   "source": [
    "<a name = Section83></a>\n",
    "\n",
    "## **6.3 Naive Bayes - Oversampled Model**\n",
    "\n",
    "In this model, we will use the Oversampled Data that we obtained after performing SMOTE."
   ]
  },
  {
   "cell_type": "code",
   "execution_count": 36,
   "id": "81a47e75",
   "metadata": {
    "execution": {
     "iopub.execute_input": "2023-02-05T10:10:36.174397Z",
     "iopub.status.busy": "2023-02-05T10:10:36.173147Z",
     "iopub.status.idle": "2023-02-05T10:10:36.929318Z",
     "shell.execute_reply": "2023-02-05T10:10:36.927846Z"
    },
    "id": "LFMhqpfUFz4V",
    "outputId": "551f6c75-abf0-46f5-bcc7-fcde877c1758",
    "papermill": {
     "duration": 0.784651,
     "end_time": "2023-02-05T10:10:36.932082",
     "exception": false,
     "start_time": "2023-02-05T10:10:36.147431",
     "status": "completed"
    },
    "tags": []
   },
   "outputs": [
    {
     "data": {
      "image/png": "[encoded data removed]",
      "text/plain": [
       "<Figure size 1080x504 with 4 Axes>"
      ]
     },
     "metadata": {},
     "output_type": "display_data"
    }
   ],
   "source": [
    "naive = GaussianNB()\n",
    "naive.fit(X_train, y_train)\n",
    "\n",
    "y_train_pred_count = naive.predict(X_train)\n",
    "y_test_pred_count = naive.predict(X_test)\n",
    "\n",
    "y_train_pred_proba = naive.predict_proba(X_train)\n",
    "y_test_pred_proba = naive.predict_proba(X_test)\n",
    "\n",
    "fig, (ax1, ax2) = plt.subplots(nrows = 1, ncols = 2, sharex = False, figsize=(15, 7))\n",
    "plot_confusion_matrix(estimator = naive, X = X_train, y_true = y_train, values_format = '.7g', cmap = 'YlGnBu', ax = ax1)\n",
    "plot_confusion_matrix(estimator = naive, X = X_test, y_true = y_test, values_format = '.7g', cmap = 'YlGnBu', ax = ax2)\n",
    "ax1.set_title(label = 'Train Data', size = 14)\n",
    "ax2.set_title(label = 'Test Data', size = 14)\n",
    "ax1.grid(b = False)\n",
    "ax2.grid(b = False)\n",
    "plt.suptitle(t = 'Confusion Matrix', size = 16)\n",
    "plt.show()"
   ]
  },
  {
   "cell_type": "markdown",
   "id": "3a0e6ac0",
   "metadata": {
    "id": "ciYzgX-YHCHl",
    "papermill": {
     "duration": 0.024519,
     "end_time": "2023-02-05T10:10:36.982860",
     "exception": false,
     "start_time": "2023-02-05T10:10:36.958341",
     "status": "completed"
    },
    "tags": []
   },
   "source": [
    "**Observation:**\n",
    "\n",
    "- **Train Data:**\n",
    "  - Now the model is making less error on Drug 1 and Drug 5 but making more errors on Drug 2 and 3.\n",
    "\n",
    "- **Test Data:**\n",
    "  - Now the model is making less error on Drug 1 and Drug 5 but making more errors on Drug 2 and 3."
   ]
  },
  {
   "cell_type": "code",
   "execution_count": 37,
   "id": "4c9f005a",
   "metadata": {
    "execution": {
     "iopub.execute_input": "2023-02-05T10:10:37.034467Z",
     "iopub.status.busy": "2023-02-05T10:10:37.034049Z",
     "iopub.status.idle": "2023-02-05T10:10:37.052690Z",
     "shell.execute_reply": "2023-02-05T10:10:37.050242Z"
    },
    "id": "O20q_NH5GP4q",
    "outputId": "e25b5148-2601-4273-c3ce-c8f7eb71b5a8",
    "papermill": {
     "duration": 0.048454,
     "end_time": "2023-02-05T10:10:37.056060",
     "exception": false,
     "start_time": "2023-02-05T10:10:37.007606",
     "status": "completed"
    },
    "tags": []
   },
   "outputs": [
    {
     "name": "stdout",
     "output_type": "stream",
     "text": [
      "                    Training Report          \n",
      "              precision    recall  f1-score   support\n",
      "\n",
      "           0       1.00      0.51      0.67        73\n",
      "           1       0.86      1.00      0.92        73\n",
      "           2       0.94      1.00      0.97        73\n",
      "           3       0.60      0.74      0.66        72\n",
      "           4       0.49      0.51      0.50        73\n",
      "\n",
      "    accuracy                           0.75       364\n",
      "   macro avg       0.78      0.75      0.74       364\n",
      "weighted avg       0.78      0.75      0.74       364\n",
      "\n",
      "                    Testing Report           \n",
      "              precision    recall  f1-score   support\n",
      "\n",
      "           0       1.00      0.50      0.67        18\n",
      "           1       1.00      1.00      1.00        18\n",
      "           2       0.95      1.00      0.97        18\n",
      "           3       0.64      0.84      0.73        19\n",
      "           4       0.45      0.50      0.47        18\n",
      "\n",
      "    accuracy                           0.77        91\n",
      "   macro avg       0.81      0.77      0.77        91\n",
      "weighted avg       0.81      0.77      0.77        91\n",
      "\n"
     ]
    }
   ],
   "source": [
    "logistic_report_train = classification_report(y_train, y_train_pred_count)\n",
    "logistic_report_test = classification_report(y_test, y_test_pred_count)\n",
    "print('                    Training Report          ')\n",
    "print(logistic_report_train)\n",
    "print('                    Testing Report           ')\n",
    "print(logistic_report_test)"
   ]
  },
  {
   "cell_type": "markdown",
   "id": "10fee03b",
   "metadata": {
    "id": "fZNbae-FNIKs",
    "papermill": {
     "duration": 0.024577,
     "end_time": "2023-02-05T10:10:37.106096",
     "exception": false,
     "start_time": "2023-02-05T10:10:37.081519",
     "status": "completed"
    },
    "tags": []
   },
   "source": [
    "**Observation:**\n",
    "\n",
    "- We can **observe** that how **better** our **metrics** are **looking now**.\n",
    "\n",
    "- The **precision** and **recall** **scores** have been **improved** for the **positive class**."
   ]
  },
  {
   "cell_type": "markdown",
   "id": "dd660eca",
   "metadata": {
    "id": "nlrYGzGMQJAS",
    "papermill": {
     "duration": 0.024522,
     "end_time": "2023-02-05T10:10:37.155594",
     "exception": false,
     "start_time": "2023-02-05T10:10:37.131072",
     "status": "completed"
    },
    "tags": []
   },
   "source": [
    "\n",
    "**Note:** You can try out other models with respect to the Naive Bayes and find much better solution."
   ]
  },
  {
   "attachments": {},
   "cell_type": "markdown",
   "id": "cb05b9fe",
   "metadata": {
    "id": "GiV_JoEoGb_L",
    "papermill": {
     "duration": 0.024834,
     "end_time": "2023-02-05T10:10:37.206851",
     "exception": false,
     "start_time": "2023-02-05T10:10:37.182017",
     "status": "completed"
    },
    "tags": []
   },
   "source": [
    "<a name = Section9></a>\n",
    "\n",
    "---\n",
    "# **7. Conclusion**\n",
    "---\n",
    "\n",
    "- We **studied in breifly about the data**, its **characteristics** and its **distribution**.\n",
    "- We **explored** some **questions related** to fraudulent and non-fraudulent transactions.\n",
    "- We **investigated in depth about the features** which to **retain** and which to **discard**.\n",
    "- We **performed model development** **with and without oversampling technique** known as SMOTE.\n",
    "- We **observed low precision and recall scores** with **baseline model** but **good results with oversampled model**.\n",
    "- This **model** now can **help us** in **identifying** which transactions are fraudulent and which are not. \n",
    "- Additionally, this **model** will **help** business **saving** **a lot of resources** (money, human resources etc.)."
   ]
  },
  {
   "cell_type": "markdown",
   "id": "47f83440",
   "metadata": {},
   "source": []
  }
 ],
 "metadata": {
  "kernelspec": {
   "display_name": "Python 3",
   "language": "python",
   "name": "python3"
  },
  "language_info": {
   "codemirror_mode": {
    "name": "ipython",
    "version": 3
   },
   "file_extension": ".py",
   "mimetype": "text/x-python",
   "name": "python",
   "nbconvert_exporter": "python",
   "pygments_lexer": "ipython3",
   "version": "3.7.12"
  },
  "papermill": {
   "default_parameters": {},
   "duration": 102.077495,
   "end_time": "2023-02-05T10:10:38.758323",
   "environment_variables": {},
   "exception": null,
   "input_path": "__notebook__.ipynb",
   "output_path": "__notebook__.ipynb",
   "parameters": {},
   "start_time": "2023-02-05T10:08:56.680828",
   "version": "2.3.4"
  },
  "widgets": {
   "application/vnd.jupyter.widget-state+json": {
    "state": {
     "10098554ea854bd39dfcd1bdcb57701d": {
      "model_module": "@jupyter-widgets/controls",
      "model_module_version": "1.5.0",
      "model_name": "HTMLModel",
      "state": {
       "_dom_classes": [],
       "_model_module": "@jupyter-widgets/controls",
       "_model_module_version": "1.5.0",
       "_model_name": "HTMLModel",
       "_view_count": null,
       "_view_module": "@jupyter-widgets/controls",
       "_view_module_version": "1.5.0",
       "_view_name": "HTMLView",
       "description": "",
       "description_tooltip": null,
       "layout": "IPY_MODEL_494f4d3fbc864cc6a73240102f4ca204",
       "placeholder": "​",
       "style": "IPY_MODEL_4d647749bd9a439193a453d5acdb8a2d",
       "value": " 1/1 [00:00&lt;00:00,  1.73it/s]"
      }
     },
     "12093d976cfe4e3287747f5361410306": {
      "model_module": "@jupyter-widgets/base",
      "model_module_version": "1.2.0",
      "model_name": "LayoutModel",
      "state": {
       "_model_module": "@jupyter-widgets/base",
       "_model_module_version": "1.2.0",
       "_model_name": "LayoutModel",
       "_view_count": null,
       "_view_module": "@jupyter-widgets/base",
       "_view_module_version": "1.2.0",
       "_view_name": "LayoutView",
       "align_content": null,
       "align_items": null,
       "align_self": null,
       "border": null,
       "bottom": null,
       "display": null,
       "flex": null,
       "flex_flow": null,
       "grid_area": null,
       "grid_auto_columns": null,
       "grid_auto_flow": null,
       "grid_auto_rows": null,
       "grid_column": null,
       "grid_gap": null,
       "grid_row": null,
       "grid_template_areas": null,
       "grid_template_columns": null,
       "grid_template_rows": null,
       "height": null,
       "justify_content": null,
       "justify_items": null,
       "left": null,
       "margin": null,
       "max_height": null,
       "max_width": null,
       "min_height": null,
       "min_width": null,
       "object_fit": null,
       "object_position": null,
       "order": null,
       "overflow": null,
       "overflow_x": null,
       "overflow_y": null,
       "padding": null,
       "right": null,
       "top": null,
       "visibility": null,
       "width": null
      }
     },
     "15a5eb34f7f24e29b1529ded5de865bc": {
      "model_module": "@jupyter-widgets/controls",
      "model_module_version": "1.5.0",
      "model_name": "FloatProgressModel",
      "state": {
       "_dom_classes": [],
       "_model_module": "@jupyter-widgets/controls",
       "_model_module_version": "1.5.0",
       "_model_name": "FloatProgressModel",
       "_view_count": null,
       "_view_module": "@jupyter-widgets/controls",
       "_view_module_version": "1.5.0",
       "_view_name": "ProgressView",
       "bar_style": "success",
       "description": "",
       "description_tooltip": null,
       "layout": "IPY_MODEL_75a5a54eaf3c4c4a80a6796209655c48",
       "max": 1,
       "min": 0,
       "orientation": "horizontal",
       "style": "IPY_MODEL_dbfe61746b09456fa7d61601510e1ee2",
       "value": 1
      }
     },
     "15b51a31dc6a4bceaf1912e036490a81": {
      "model_module": "@jupyter-widgets/base",
      "model_module_version": "1.2.0",
      "model_name": "LayoutModel",
      "state": {
       "_model_module": "@jupyter-widgets/base",
       "_model_module_version": "1.2.0",
       "_model_name": "LayoutModel",
       "_view_count": null,
       "_view_module": "@jupyter-widgets/base",
       "_view_module_version": "1.2.0",
       "_view_name": "LayoutView",
       "align_content": null,
       "align_items": null,
       "align_self": null,
       "border": null,
       "bottom": null,
       "display": null,
       "flex": null,
       "flex_flow": null,
       "grid_area": null,
       "grid_auto_columns": null,
       "grid_auto_flow": null,
       "grid_auto_rows": null,
       "grid_column": null,
       "grid_gap": null,
       "grid_row": null,
       "grid_template_areas": null,
       "grid_template_columns": null,
       "grid_template_rows": null,
       "height": null,
       "justify_content": null,
       "justify_items": null,
       "left": null,
       "margin": null,
       "max_height": null,
       "max_width": null,
       "min_height": null,
       "min_width": null,
       "object_fit": null,
       "object_position": null,
       "order": null,
       "overflow": null,
       "overflow_x": null,
       "overflow_y": null,
       "padding": null,
       "right": null,
       "top": null,
       "visibility": null,
       "width": null
      }
     },
     "18dce92c577e48cb9ddef5d96143da87": {
      "model_module": "@jupyter-widgets/base",
      "model_module_version": "1.2.0",
      "model_name": "LayoutModel",
      "state": {
       "_model_module": "@jupyter-widgets/base",
       "_model_module_version": "1.2.0",
       "_model_name": "LayoutModel",
       "_view_count": null,
       "_view_module": "@jupyter-widgets/base",
       "_view_module_version": "1.2.0",
       "_view_name": "LayoutView",
       "align_content": null,
       "align_items": null,
       "align_self": null,
       "border": null,
       "bottom": null,
       "display": null,
       "flex": null,
       "flex_flow": null,
       "grid_area": null,
       "grid_auto_columns": null,
       "grid_auto_flow": null,
       "grid_auto_rows": null,
       "grid_column": null,
       "grid_gap": null,
       "grid_row": null,
       "grid_template_areas": null,
       "grid_template_columns": null,
       "grid_template_rows": null,
       "height": null,
       "justify_content": null,
       "justify_items": null,
       "left": null,
       "margin": null,
       "max_height": null,
       "max_width": null,
       "min_height": null,
       "min_width": null,
       "object_fit": null,
       "object_position": null,
       "order": null,
       "overflow": null,
       "overflow_x": null,
       "overflow_y": null,
       "padding": null,
       "right": null,
       "top": null,
       "visibility": null,
       "width": null
      }
     },
     "1a44dff1d4734712a9b44823e5a93b23": {
      "model_module": "@jupyter-widgets/base",
      "model_module_version": "1.2.0",
      "model_name": "LayoutModel",
      "state": {
       "_model_module": "@jupyter-widgets/base",
       "_model_module_version": "1.2.0",
       "_model_name": "LayoutModel",
       "_view_count": null,
       "_view_module": "@jupyter-widgets/base",
       "_view_module_version": "1.2.0",
       "_view_name": "LayoutView",
       "align_content": null,
       "align_items": null,
       "align_self": null,
       "border": null,
       "bottom": null,
       "display": null,
       "flex": null,
       "flex_flow": null,
       "grid_area": null,
       "grid_auto_columns": null,
       "grid_auto_flow": null,
       "grid_auto_rows": null,
       "grid_column": null,
       "grid_gap": null,
       "grid_row": null,
       "grid_template_areas": null,
       "grid_template_columns": null,
       "grid_template_rows": null,
       "height": null,
       "justify_content": null,
       "justify_items": null,
       "left": null,
       "margin": null,
       "max_height": null,
       "max_width": null,
       "min_height": null,
       "min_width": null,
       "object_fit": null,
       "object_position": null,
       "order": null,
       "overflow": null,
       "overflow_x": null,
       "overflow_y": null,
       "padding": null,
       "right": null,
       "top": null,
       "visibility": null,
       "width": null
      }
     },
     "23f1efa4bf714da19c2266afd0a3fad9": {
      "model_module": "@jupyter-widgets/controls",
      "model_module_version": "1.5.0",
      "model_name": "HTMLModel",
      "state": {
       "_dom_classes": [],
       "_model_module": "@jupyter-widgets/controls",
       "_model_module_version": "1.5.0",
       "_model_name": "HTMLModel",
       "_view_count": null,
       "_view_module": "@jupyter-widgets/controls",
       "_view_module_version": "1.5.0",
       "_view_name": "HTMLView",
       "description": "",
       "description_tooltip": null,
       "layout": "IPY_MODEL_cb1d0cdc07fd407e95ad0bb5e0be7922",
       "placeholder": "​",
       "style": "IPY_MODEL_7e745ab2521a401b82c887e53c8e1158",
       "value": "Summarize dataset: 100%"
      }
     },
     "318a8517a00b4ee1b0b8b2d8d5fadc6a": {
      "model_module": "@jupyter-widgets/base",
      "model_module_version": "1.2.0",
      "model_name": "LayoutModel",
      "state": {
       "_model_module": "@jupyter-widgets/base",
       "_model_module_version": "1.2.0",
       "_model_name": "LayoutModel",
       "_view_count": null,
       "_view_module": "@jupyter-widgets/base",
       "_view_module_version": "1.2.0",
       "_view_name": "LayoutView",
       "align_content": null,
       "align_items": null,
       "align_self": null,
       "border": null,
       "bottom": null,
       "display": null,
       "flex": null,
       "flex_flow": null,
       "grid_area": null,
       "grid_auto_columns": null,
       "grid_auto_flow": null,
       "grid_auto_rows": null,
       "grid_column": null,
       "grid_gap": null,
       "grid_row": null,
       "grid_template_areas": null,
       "grid_template_columns": null,
       "grid_template_rows": null,
       "height": null,
       "justify_content": null,
       "justify_items": null,
       "left": null,
       "margin": null,
       "max_height": null,
       "max_width": null,
       "min_height": null,
       "min_width": null,
       "object_fit": null,
       "object_position": null,
       "order": null,
       "overflow": null,
       "overflow_x": null,
       "overflow_y": null,
       "padding": null,
       "right": null,
       "top": null,
       "visibility": null,
       "width": null
      }
     },
     "32ad584fe697413c8fd75bfdd368218d": {
      "model_module": "@jupyter-widgets/controls",
      "model_module_version": "1.5.0",
      "model_name": "HBoxModel",
      "state": {
       "_dom_classes": [],
       "_model_module": "@jupyter-widgets/controls",
       "_model_module_version": "1.5.0",
       "_model_name": "HBoxModel",
       "_view_count": null,
       "_view_module": "@jupyter-widgets/controls",
       "_view_module_version": "1.5.0",
       "_view_name": "HBoxView",
       "box_style": "",
       "children": [
        "IPY_MODEL_a3a661ea30fe4a698d23e85e91f6685a",
        "IPY_MODEL_70872b29a0524ec29844adfc129655a7",
        "IPY_MODEL_41ec145869a14815a7877e51fd0053d9"
       ],
       "layout": "IPY_MODEL_1a44dff1d4734712a9b44823e5a93b23"
      }
     },
     "34be01b4ff1b4dc3a960a95ba00c9033": {
      "model_module": "@jupyter-widgets/base",
      "model_module_version": "1.2.0",
      "model_name": "LayoutModel",
      "state": {
       "_model_module": "@jupyter-widgets/base",
       "_model_module_version": "1.2.0",
       "_model_name": "LayoutModel",
       "_view_count": null,
       "_view_module": "@jupyter-widgets/base",
       "_view_module_version": "1.2.0",
       "_view_name": "LayoutView",
       "align_content": null,
       "align_items": null,
       "align_self": null,
       "border": null,
       "bottom": null,
       "display": null,
       "flex": null,
       "flex_flow": null,
       "grid_area": null,
       "grid_auto_columns": null,
       "grid_auto_flow": null,
       "grid_auto_rows": null,
       "grid_column": null,
       "grid_gap": null,
       "grid_row": null,
       "grid_template_areas": null,
       "grid_template_columns": null,
       "grid_template_rows": null,
       "height": null,
       "justify_content": null,
       "justify_items": null,
       "left": null,
       "margin": null,
       "max_height": null,
       "max_width": null,
       "min_height": null,
       "min_width": null,
       "object_fit": null,
       "object_position": null,
       "order": null,
       "overflow": null,
       "overflow_x": null,
       "overflow_y": null,
       "padding": null,
       "right": null,
       "top": null,
       "visibility": null,
       "width": null
      }
     },
     "41ec145869a14815a7877e51fd0053d9": {
      "model_module": "@jupyter-widgets/controls",
      "model_module_version": "1.5.0",
      "model_name": "HTMLModel",
      "state": {
       "_dom_classes": [],
       "_model_module": "@jupyter-widgets/controls",
       "_model_module_version": "1.5.0",
       "_model_name": "HTMLModel",
       "_view_count": null,
       "_view_module": "@jupyter-widgets/controls",
       "_view_module_version": "1.5.0",
       "_view_name": "HTMLView",
       "description": "",
       "description_tooltip": null,
       "layout": "IPY_MODEL_18dce92c577e48cb9ddef5d96143da87",
       "placeholder": "​",
       "style": "IPY_MODEL_5e2a29968455427caf3e6b6a7b1a16f4",
       "value": " 1/1 [00:00&lt;00:00, 31.45it/s]"
      }
     },
     "44f1d0f84e0a4caabb08c3ae3730f4c3": {
      "model_module": "@jupyter-widgets/controls",
      "model_module_version": "1.5.0",
      "model_name": "HTMLModel",
      "state": {
       "_dom_classes": [],
       "_model_module": "@jupyter-widgets/controls",
       "_model_module_version": "1.5.0",
       "_model_name": "HTMLModel",
       "_view_count": null,
       "_view_module": "@jupyter-widgets/controls",
       "_view_module_version": "1.5.0",
       "_view_name": "HTMLView",
       "description": "",
       "description_tooltip": null,
       "layout": "IPY_MODEL_7bcba64c27a94f16b48bd8de9b75645a",
       "placeholder": "​",
       "style": "IPY_MODEL_4d1caa9635234c7788cf77ef930b0e25",
       "value": "Render HTML: 100%"
      }
     },
     "494f4d3fbc864cc6a73240102f4ca204": {
      "model_module": "@jupyter-widgets/base",
      "model_module_version": "1.2.0",
      "model_name": "LayoutModel",
      "state": {
       "_model_module": "@jupyter-widgets/base",
       "_model_module_version": "1.2.0",
       "_model_name": "LayoutModel",
       "_view_count": null,
       "_view_module": "@jupyter-widgets/base",
       "_view_module_version": "1.2.0",
       "_view_name": "LayoutView",
       "align_content": null,
       "align_items": null,
       "align_self": null,
       "border": null,
       "bottom": null,
       "display": null,
       "flex": null,
       "flex_flow": null,
       "grid_area": null,
       "grid_auto_columns": null,
       "grid_auto_flow": null,
       "grid_auto_rows": null,
       "grid_column": null,
       "grid_gap": null,
       "grid_row": null,
       "grid_template_areas": null,
       "grid_template_columns": null,
       "grid_template_rows": null,
       "height": null,
       "justify_content": null,
       "justify_items": null,
       "left": null,
       "margin": null,
       "max_height": null,
       "max_width": null,
       "min_height": null,
       "min_width": null,
       "object_fit": null,
       "object_position": null,
       "order": null,
       "overflow": null,
       "overflow_x": null,
       "overflow_y": null,
       "padding": null,
       "right": null,
       "top": null,
       "visibility": null,
       "width": null
      }
     },
     "4d1caa9635234c7788cf77ef930b0e25": {
      "model_module": "@jupyter-widgets/controls",
      "model_module_version": "1.5.0",
      "model_name": "DescriptionStyleModel",
      "state": {
       "_model_module": "@jupyter-widgets/controls",
       "_model_module_version": "1.5.0",
       "_model_name": "DescriptionStyleModel",
       "_view_count": null,
       "_view_module": "@jupyter-widgets/base",
       "_view_module_version": "1.2.0",
       "_view_name": "StyleView",
       "description_width": ""
      }
     },
     "4d647749bd9a439193a453d5acdb8a2d": {
      "model_module": "@jupyter-widgets/controls",
      "model_module_version": "1.5.0",
      "model_name": "DescriptionStyleModel",
      "state": {
       "_model_module": "@jupyter-widgets/controls",
       "_model_module_version": "1.5.0",
       "_model_name": "DescriptionStyleModel",
       "_view_count": null,
       "_view_module": "@jupyter-widgets/base",
       "_view_module_version": "1.2.0",
       "_view_name": "StyleView",
       "description_width": ""
      }
     },
     "4ff8a6fa9bb849d7ac8be2aec9661eb2": {
      "model_module": "@jupyter-widgets/controls",
      "model_module_version": "1.5.0",
      "model_name": "ProgressStyleModel",
      "state": {
       "_model_module": "@jupyter-widgets/controls",
       "_model_module_version": "1.5.0",
       "_model_name": "ProgressStyleModel",
       "_view_count": null,
       "_view_module": "@jupyter-widgets/base",
       "_view_module_version": "1.2.0",
       "_view_name": "StyleView",
       "bar_color": null,
       "description_width": ""
      }
     },
     "5e2a29968455427caf3e6b6a7b1a16f4": {
      "model_module": "@jupyter-widgets/controls",
      "model_module_version": "1.5.0",
      "model_name": "DescriptionStyleModel",
      "state": {
       "_model_module": "@jupyter-widgets/controls",
       "_model_module_version": "1.5.0",
       "_model_name": "DescriptionStyleModel",
       "_view_count": null,
       "_view_module": "@jupyter-widgets/base",
       "_view_module_version": "1.2.0",
       "_view_name": "StyleView",
       "description_width": ""
      }
     },
     "705bba3c2f1b4c9db1d9811bca618e21": {
      "model_module": "@jupyter-widgets/controls",
      "model_module_version": "1.5.0",
      "model_name": "DescriptionStyleModel",
      "state": {
       "_model_module": "@jupyter-widgets/controls",
       "_model_module_version": "1.5.0",
       "_model_name": "DescriptionStyleModel",
       "_view_count": null,
       "_view_module": "@jupyter-widgets/base",
       "_view_module_version": "1.2.0",
       "_view_name": "StyleView",
       "description_width": ""
      }
     },
     "70872b29a0524ec29844adfc129655a7": {
      "model_module": "@jupyter-widgets/controls",
      "model_module_version": "1.5.0",
      "model_name": "FloatProgressModel",
      "state": {
       "_dom_classes": [],
       "_model_module": "@jupyter-widgets/controls",
       "_model_module_version": "1.5.0",
       "_model_name": "FloatProgressModel",
       "_view_count": null,
       "_view_module": "@jupyter-widgets/controls",
       "_view_module_version": "1.5.0",
       "_view_name": "ProgressView",
       "bar_style": "success",
       "description": "",
       "description_tooltip": null,
       "layout": "IPY_MODEL_bbb40c82ee5941bfbb24fb34cd569516",
       "max": 1,
       "min": 0,
       "orientation": "horizontal",
       "style": "IPY_MODEL_de90ff52f24d4a88b69d1a6c9f286c52",
       "value": 1
      }
     },
     "7550d59a9236423da17eaa74b84f6016": {
      "model_module": "@jupyter-widgets/controls",
      "model_module_version": "1.5.0",
      "model_name": "ProgressStyleModel",
      "state": {
       "_model_module": "@jupyter-widgets/controls",
       "_model_module_version": "1.5.0",
       "_model_name": "ProgressStyleModel",
       "_view_count": null,
       "_view_module": "@jupyter-widgets/base",
       "_view_module_version": "1.2.0",
       "_view_name": "StyleView",
       "bar_color": null,
       "description_width": ""
      }
     },
     "75a5a54eaf3c4c4a80a6796209655c48": {
      "model_module": "@jupyter-widgets/base",
      "model_module_version": "1.2.0",
      "model_name": "LayoutModel",
      "state": {
       "_model_module": "@jupyter-widgets/base",
       "_model_module_version": "1.2.0",
       "_model_name": "LayoutModel",
       "_view_count": null,
       "_view_module": "@jupyter-widgets/base",
       "_view_module_version": "1.2.0",
       "_view_name": "LayoutView",
       "align_content": null,
       "align_items": null,
       "align_self": null,
       "border": null,
       "bottom": null,
       "display": null,
       "flex": null,
       "flex_flow": null,
       "grid_area": null,
       "grid_auto_columns": null,
       "grid_auto_flow": null,
       "grid_auto_rows": null,
       "grid_column": null,
       "grid_gap": null,
       "grid_row": null,
       "grid_template_areas": null,
       "grid_template_columns": null,
       "grid_template_rows": null,
       "height": null,
       "justify_content": null,
       "justify_items": null,
       "left": null,
       "margin": null,
       "max_height": null,
       "max_width": null,
       "min_height": null,
       "min_width": null,
       "object_fit": null,
       "object_position": null,
       "order": null,
       "overflow": null,
       "overflow_x": null,
       "overflow_y": null,
       "padding": null,
       "right": null,
       "top": null,
       "visibility": null,
       "width": null
      }
     },
     "7bcba64c27a94f16b48bd8de9b75645a": {
      "model_module": "@jupyter-widgets/base",
      "model_module_version": "1.2.0",
      "model_name": "LayoutModel",
      "state": {
       "_model_module": "@jupyter-widgets/base",
       "_model_module_version": "1.2.0",
       "_model_name": "LayoutModel",
       "_view_count": null,
       "_view_module": "@jupyter-widgets/base",
       "_view_module_version": "1.2.0",
       "_view_name": "LayoutView",
       "align_content": null,
       "align_items": null,
       "align_self": null,
       "border": null,
       "bottom": null,
       "display": null,
       "flex": null,
       "flex_flow": null,
       "grid_area": null,
       "grid_auto_columns": null,
       "grid_auto_flow": null,
       "grid_auto_rows": null,
       "grid_column": null,
       "grid_gap": null,
       "grid_row": null,
       "grid_template_areas": null,
       "grid_template_columns": null,
       "grid_template_rows": null,
       "height": null,
       "justify_content": null,
       "justify_items": null,
       "left": null,
       "margin": null,
       "max_height": null,
       "max_width": null,
       "min_height": null,
       "min_width": null,
       "object_fit": null,
       "object_position": null,
       "order": null,
       "overflow": null,
       "overflow_x": null,
       "overflow_y": null,
       "padding": null,
       "right": null,
       "top": null,
       "visibility": null,
       "width": null
      }
     },
     "7e745ab2521a401b82c887e53c8e1158": {
      "model_module": "@jupyter-widgets/controls",
      "model_module_version": "1.5.0",
      "model_name": "DescriptionStyleModel",
      "state": {
       "_model_module": "@jupyter-widgets/controls",
       "_model_module_version": "1.5.0",
       "_model_name": "DescriptionStyleModel",
       "_view_count": null,
       "_view_module": "@jupyter-widgets/base",
       "_view_module_version": "1.2.0",
       "_view_name": "StyleView",
       "description_width": ""
      }
     },
     "7f740615f8dd48e69d4049afd8339995": {
      "model_module": "@jupyter-widgets/base",
      "model_module_version": "1.2.0",
      "model_name": "LayoutModel",
      "state": {
       "_model_module": "@jupyter-widgets/base",
       "_model_module_version": "1.2.0",
       "_model_name": "LayoutModel",
       "_view_count": null,
       "_view_module": "@jupyter-widgets/base",
       "_view_module_version": "1.2.0",
       "_view_name": "LayoutView",
       "align_content": null,
       "align_items": null,
       "align_self": null,
       "border": null,
       "bottom": null,
       "display": null,
       "flex": null,
       "flex_flow": null,
       "grid_area": null,
       "grid_auto_columns": null,
       "grid_auto_flow": null,
       "grid_auto_rows": null,
       "grid_column": null,
       "grid_gap": null,
       "grid_row": null,
       "grid_template_areas": null,
       "grid_template_columns": null,
       "grid_template_rows": null,
       "height": null,
       "justify_content": null,
       "justify_items": null,
       "left": null,
       "margin": null,
       "max_height": null,
       "max_width": null,
       "min_height": null,
       "min_width": null,
       "object_fit": null,
       "object_position": null,
       "order": null,
       "overflow": null,
       "overflow_x": null,
       "overflow_y": null,
       "padding": null,
       "right": null,
       "top": null,
       "visibility": null,
       "width": null
      }
     },
     "831dcca84a3a4c79a41098286825a02f": {
      "model_module": "@jupyter-widgets/controls",
      "model_module_version": "1.5.0",
      "model_name": "HTMLModel",
      "state": {
       "_dom_classes": [],
       "_model_module": "@jupyter-widgets/controls",
       "_model_module_version": "1.5.0",
       "_model_name": "HTMLModel",
       "_view_count": null,
       "_view_module": "@jupyter-widgets/controls",
       "_view_module_version": "1.5.0",
       "_view_name": "HTMLView",
       "description": "",
       "description_tooltip": null,
       "layout": "IPY_MODEL_34be01b4ff1b4dc3a960a95ba00c9033",
       "placeholder": "​",
       "style": "IPY_MODEL_f39fbad21d6842f1a2834a2e1d9465f4",
       "value": " 19/19 [00:02&lt;00:00,  5.49it/s, Completed]"
      }
     },
     "87273e62a64d4fa492e7b1f6b2ea6c44": {
      "model_module": "@jupyter-widgets/controls",
      "model_module_version": "1.5.0",
      "model_name": "FloatProgressModel",
      "state": {
       "_dom_classes": [],
       "_model_module": "@jupyter-widgets/controls",
       "_model_module_version": "1.5.0",
       "_model_name": "FloatProgressModel",
       "_view_count": null,
       "_view_module": "@jupyter-widgets/controls",
       "_view_module_version": "1.5.0",
       "_view_name": "ProgressView",
       "bar_style": "success",
       "description": "",
       "description_tooltip": null,
       "layout": "IPY_MODEL_bd4abfcbfd4d41b496a5e618c81254ef",
       "max": 5,
       "min": 0,
       "orientation": "horizontal",
       "style": "IPY_MODEL_7550d59a9236423da17eaa74b84f6016",
       "value": 5
      }
     },
     "90c02195cc664b26ae17b1da0703929f": {
      "model_module": "@jupyter-widgets/controls",
      "model_module_version": "1.5.0",
      "model_name": "HTMLModel",
      "state": {
       "_dom_classes": [],
       "_model_module": "@jupyter-widgets/controls",
       "_model_module_version": "1.5.0",
       "_model_name": "HTMLModel",
       "_view_count": null,
       "_view_module": "@jupyter-widgets/controls",
       "_view_module_version": "1.5.0",
       "_view_name": "HTMLView",
       "description": "",
       "description_tooltip": null,
       "layout": "IPY_MODEL_7f740615f8dd48e69d4049afd8339995",
       "placeholder": "​",
       "style": "IPY_MODEL_dec5963c9cda4cf6881bfdd4856097c0",
       "value": "Generate report structure: 100%"
      }
     },
     "a000311515bb464a83fe8abdf3a88e14": {
      "model_module": "@jupyter-widgets/controls",
      "model_module_version": "1.5.0",
      "model_name": "HBoxModel",
      "state": {
       "_dom_classes": [],
       "_model_module": "@jupyter-widgets/controls",
       "_model_module_version": "1.5.0",
       "_model_name": "HBoxModel",
       "_view_count": null,
       "_view_module": "@jupyter-widgets/controls",
       "_view_module_version": "1.5.0",
       "_view_name": "HBoxView",
       "box_style": "",
       "children": [
        "IPY_MODEL_44f1d0f84e0a4caabb08c3ae3730f4c3",
        "IPY_MODEL_af2f9f94109a43f984d8d47c0a0061df",
        "IPY_MODEL_10098554ea854bd39dfcd1bdcb57701d"
       ],
       "layout": "IPY_MODEL_a396d6d37ddc4df09d94f2d2f9a62dc6"
      }
     },
     "a396d6d37ddc4df09d94f2d2f9a62dc6": {
      "model_module": "@jupyter-widgets/base",
      "model_module_version": "1.2.0",
      "model_name": "LayoutModel",
      "state": {
       "_model_module": "@jupyter-widgets/base",
       "_model_module_version": "1.2.0",
       "_model_name": "LayoutModel",
       "_view_count": null,
       "_view_module": "@jupyter-widgets/base",
       "_view_module_version": "1.2.0",
       "_view_name": "LayoutView",
       "align_content": null,
       "align_items": null,
       "align_self": null,
       "border": null,
       "bottom": null,
       "display": null,
       "flex": null,
       "flex_flow": null,
       "grid_area": null,
       "grid_auto_columns": null,
       "grid_auto_flow": null,
       "grid_auto_rows": null,
       "grid_column": null,
       "grid_gap": null,
       "grid_row": null,
       "grid_template_areas": null,
       "grid_template_columns": null,
       "grid_template_rows": null,
       "height": null,
       "justify_content": null,
       "justify_items": null,
       "left": null,
       "margin": null,
       "max_height": null,
       "max_width": null,
       "min_height": null,
       "min_width": null,
       "object_fit": null,
       "object_position": null,
       "order": null,
       "overflow": null,
       "overflow_x": null,
       "overflow_y": null,
       "padding": null,
       "right": null,
       "top": null,
       "visibility": null,
       "width": null
      }
     },
     "a3a661ea30fe4a698d23e85e91f6685a": {
      "model_module": "@jupyter-widgets/controls",
      "model_module_version": "1.5.0",
      "model_name": "HTMLModel",
      "state": {
       "_dom_classes": [],
       "_model_module": "@jupyter-widgets/controls",
       "_model_module_version": "1.5.0",
       "_model_name": "HTMLModel",
       "_view_count": null,
       "_view_module": "@jupyter-widgets/controls",
       "_view_module_version": "1.5.0",
       "_view_name": "HTMLView",
       "description": "",
       "description_tooltip": null,
       "layout": "IPY_MODEL_b6a993af0ebb45a0af7c3dbf70351040",
       "placeholder": "​",
       "style": "IPY_MODEL_b354ebb7dcf549c9b4702b529022fb94",
       "value": "Export report to file: 100%"
      }
     },
     "a67b09eb81894e048e72ab066fc1103b": {
      "model_module": "@jupyter-widgets/base",
      "model_module_version": "1.2.0",
      "model_name": "LayoutModel",
      "state": {
       "_model_module": "@jupyter-widgets/base",
       "_model_module_version": "1.2.0",
       "_model_name": "LayoutModel",
       "_view_count": null,
       "_view_module": "@jupyter-widgets/base",
       "_view_module_version": "1.2.0",
       "_view_name": "LayoutView",
       "align_content": null,
       "align_items": null,
       "align_self": null,
       "border": null,
       "bottom": null,
       "display": null,
       "flex": null,
       "flex_flow": null,
       "grid_area": null,
       "grid_auto_columns": null,
       "grid_auto_flow": null,
       "grid_auto_rows": null,
       "grid_column": null,
       "grid_gap": null,
       "grid_row": null,
       "grid_template_areas": null,
       "grid_template_columns": null,
       "grid_template_rows": null,
       "height": null,
       "justify_content": null,
       "justify_items": null,
       "left": null,
       "margin": null,
       "max_height": null,
       "max_width": null,
       "min_height": null,
       "min_width": null,
       "object_fit": null,
       "object_position": null,
       "order": null,
       "overflow": null,
       "overflow_x": null,
       "overflow_y": null,
       "padding": null,
       "right": null,
       "top": null,
       "visibility": null,
       "width": null
      }
     },
     "af2f9f94109a43f984d8d47c0a0061df": {
      "model_module": "@jupyter-widgets/controls",
      "model_module_version": "1.5.0",
      "model_name": "FloatProgressModel",
      "state": {
       "_dom_classes": [],
       "_model_module": "@jupyter-widgets/controls",
       "_model_module_version": "1.5.0",
       "_model_name": "FloatProgressModel",
       "_view_count": null,
       "_view_module": "@jupyter-widgets/controls",
       "_view_module_version": "1.5.0",
       "_view_name": "ProgressView",
       "bar_style": "success",
       "description": "",
       "description_tooltip": null,
       "layout": "IPY_MODEL_12093d976cfe4e3287747f5361410306",
       "max": 1,
       "min": 0,
       "orientation": "horizontal",
       "style": "IPY_MODEL_4ff8a6fa9bb849d7ac8be2aec9661eb2",
       "value": 1
      }
     },
     "b1a37ad471a74e4ba388e70cbe1705ae": {
      "model_module": "@jupyter-widgets/controls",
      "model_module_version": "1.5.0",
      "model_name": "HTMLModel",
      "state": {
       "_dom_classes": [],
       "_model_module": "@jupyter-widgets/controls",
       "_model_module_version": "1.5.0",
       "_model_name": "HTMLModel",
       "_view_count": null,
       "_view_module": "@jupyter-widgets/controls",
       "_view_module_version": "1.5.0",
       "_view_name": "HTMLView",
       "description": "",
       "description_tooltip": null,
       "layout": "IPY_MODEL_15b51a31dc6a4bceaf1912e036490a81",
       "placeholder": "​",
       "style": "IPY_MODEL_705bba3c2f1b4c9db1d9811bca618e21",
       "value": " 1/1 [00:03&lt;00:00,  3.52s/it]"
      }
     },
     "b354ebb7dcf549c9b4702b529022fb94": {
      "model_module": "@jupyter-widgets/controls",
      "model_module_version": "1.5.0",
      "model_name": "DescriptionStyleModel",
      "state": {
       "_model_module": "@jupyter-widgets/controls",
       "_model_module_version": "1.5.0",
       "_model_name": "DescriptionStyleModel",
       "_view_count": null,
       "_view_module": "@jupyter-widgets/base",
       "_view_module_version": "1.2.0",
       "_view_name": "StyleView",
       "description_width": ""
      }
     },
     "b6a993af0ebb45a0af7c3dbf70351040": {
      "model_module": "@jupyter-widgets/base",
      "model_module_version": "1.2.0",
      "model_name": "LayoutModel",
      "state": {
       "_model_module": "@jupyter-widgets/base",
       "_model_module_version": "1.2.0",
       "_model_name": "LayoutModel",
       "_view_count": null,
       "_view_module": "@jupyter-widgets/base",
       "_view_module_version": "1.2.0",
       "_view_name": "LayoutView",
       "align_content": null,
       "align_items": null,
       "align_self": null,
       "border": null,
       "bottom": null,
       "display": null,
       "flex": null,
       "flex_flow": null,
       "grid_area": null,
       "grid_auto_columns": null,
       "grid_auto_flow": null,
       "grid_auto_rows": null,
       "grid_column": null,
       "grid_gap": null,
       "grid_row": null,
       "grid_template_areas": null,
       "grid_template_columns": null,
       "grid_template_rows": null,
       "height": null,
       "justify_content": null,
       "justify_items": null,
       "left": null,
       "margin": null,
       "max_height": null,
       "max_width": null,
       "min_height": null,
       "min_width": null,
       "object_fit": null,
       "object_position": null,
       "order": null,
       "overflow": null,
       "overflow_x": null,
       "overflow_y": null,
       "padding": null,
       "right": null,
       "top": null,
       "visibility": null,
       "width": null
      }
     },
     "bbb40c82ee5941bfbb24fb34cd569516": {
      "model_module": "@jupyter-widgets/base",
      "model_module_version": "1.2.0",
      "model_name": "LayoutModel",
      "state": {
       "_model_module": "@jupyter-widgets/base",
       "_model_module_version": "1.2.0",
       "_model_name": "LayoutModel",
       "_view_count": null,
       "_view_module": "@jupyter-widgets/base",
       "_view_module_version": "1.2.0",
       "_view_name": "LayoutView",
       "align_content": null,
       "align_items": null,
       "align_self": null,
       "border": null,
       "bottom": null,
       "display": null,
       "flex": null,
       "flex_flow": null,
       "grid_area": null,
       "grid_auto_columns": null,
       "grid_auto_flow": null,
       "grid_auto_rows": null,
       "grid_column": null,
       "grid_gap": null,
       "grid_row": null,
       "grid_template_areas": null,
       "grid_template_columns": null,
       "grid_template_rows": null,
       "height": null,
       "justify_content": null,
       "justify_items": null,
       "left": null,
       "margin": null,
       "max_height": null,
       "max_width": null,
       "min_height": null,
       "min_width": null,
       "object_fit": null,
       "object_position": null,
       "order": null,
       "overflow": null,
       "overflow_x": null,
       "overflow_y": null,
       "padding": null,
       "right": null,
       "top": null,
       "visibility": null,
       "width": null
      }
     },
     "bd4abfcbfd4d41b496a5e618c81254ef": {
      "model_module": "@jupyter-widgets/base",
      "model_module_version": "1.2.0",
      "model_name": "LayoutModel",
      "state": {
       "_model_module": "@jupyter-widgets/base",
       "_model_module_version": "1.2.0",
       "_model_name": "LayoutModel",
       "_view_count": null,
       "_view_module": "@jupyter-widgets/base",
       "_view_module_version": "1.2.0",
       "_view_name": "LayoutView",
       "align_content": null,
       "align_items": null,
       "align_self": null,
       "border": null,
       "bottom": null,
       "display": null,
       "flex": null,
       "flex_flow": null,
       "grid_area": null,
       "grid_auto_columns": null,
       "grid_auto_flow": null,
       "grid_auto_rows": null,
       "grid_column": null,
       "grid_gap": null,
       "grid_row": null,
       "grid_template_areas": null,
       "grid_template_columns": null,
       "grid_template_rows": null,
       "height": null,
       "justify_content": null,
       "justify_items": null,
       "left": null,
       "margin": null,
       "max_height": null,
       "max_width": null,
       "min_height": null,
       "min_width": null,
       "object_fit": null,
       "object_position": null,
       "order": null,
       "overflow": null,
       "overflow_x": null,
       "overflow_y": null,
       "padding": null,
       "right": null,
       "top": null,
       "visibility": null,
       "width": null
      }
     },
     "cb1d0cdc07fd407e95ad0bb5e0be7922": {
      "model_module": "@jupyter-widgets/base",
      "model_module_version": "1.2.0",
      "model_name": "LayoutModel",
      "state": {
       "_model_module": "@jupyter-widgets/base",
       "_model_module_version": "1.2.0",
       "_model_name": "LayoutModel",
       "_view_count": null,
       "_view_module": "@jupyter-widgets/base",
       "_view_module_version": "1.2.0",
       "_view_name": "LayoutView",
       "align_content": null,
       "align_items": null,
       "align_self": null,
       "border": null,
       "bottom": null,
       "display": null,
       "flex": null,
       "flex_flow": null,
       "grid_area": null,
       "grid_auto_columns": null,
       "grid_auto_flow": null,
       "grid_auto_rows": null,
       "grid_column": null,
       "grid_gap": null,
       "grid_row": null,
       "grid_template_areas": null,
       "grid_template_columns": null,
       "grid_template_rows": null,
       "height": null,
       "justify_content": null,
       "justify_items": null,
       "left": null,
       "margin": null,
       "max_height": null,
       "max_width": null,
       "min_height": null,
       "min_width": null,
       "object_fit": null,
       "object_position": null,
       "order": null,
       "overflow": null,
       "overflow_x": null,
       "overflow_y": null,
       "padding": null,
       "right": null,
       "top": null,
       "visibility": null,
       "width": null
      }
     },
     "db3bcdcc005440aa8b7d547d0db6cd85": {
      "model_module": "@jupyter-widgets/controls",
      "model_module_version": "1.5.0",
      "model_name": "HBoxModel",
      "state": {
       "_dom_classes": [],
       "_model_module": "@jupyter-widgets/controls",
       "_model_module_version": "1.5.0",
       "_model_name": "HBoxModel",
       "_view_count": null,
       "_view_module": "@jupyter-widgets/controls",
       "_view_module_version": "1.5.0",
       "_view_name": "HBoxView",
       "box_style": "",
       "children": [
        "IPY_MODEL_23f1efa4bf714da19c2266afd0a3fad9",
        "IPY_MODEL_87273e62a64d4fa492e7b1f6b2ea6c44",
        "IPY_MODEL_831dcca84a3a4c79a41098286825a02f"
       ],
       "layout": "IPY_MODEL_318a8517a00b4ee1b0b8b2d8d5fadc6a"
      }
     },
     "dbfe61746b09456fa7d61601510e1ee2": {
      "model_module": "@jupyter-widgets/controls",
      "model_module_version": "1.5.0",
      "model_name": "ProgressStyleModel",
      "state": {
       "_model_module": "@jupyter-widgets/controls",
       "_model_module_version": "1.5.0",
       "_model_name": "ProgressStyleModel",
       "_view_count": null,
       "_view_module": "@jupyter-widgets/base",
       "_view_module_version": "1.2.0",
       "_view_name": "StyleView",
       "bar_color": null,
       "description_width": ""
      }
     },
     "de90ff52f24d4a88b69d1a6c9f286c52": {
      "model_module": "@jupyter-widgets/controls",
      "model_module_version": "1.5.0",
      "model_name": "ProgressStyleModel",
      "state": {
       "_model_module": "@jupyter-widgets/controls",
       "_model_module_version": "1.5.0",
       "_model_name": "ProgressStyleModel",
       "_view_count": null,
       "_view_module": "@jupyter-widgets/base",
       "_view_module_version": "1.2.0",
       "_view_name": "StyleView",
       "bar_color": null,
       "description_width": ""
      }
     },
     "dec5963c9cda4cf6881bfdd4856097c0": {
      "model_module": "@jupyter-widgets/controls",
      "model_module_version": "1.5.0",
      "model_name": "DescriptionStyleModel",
      "state": {
       "_model_module": "@jupyter-widgets/controls",
       "_model_module_version": "1.5.0",
       "_model_name": "DescriptionStyleModel",
       "_view_count": null,
       "_view_module": "@jupyter-widgets/base",
       "_view_module_version": "1.2.0",
       "_view_name": "StyleView",
       "description_width": ""
      }
     },
     "f39fbad21d6842f1a2834a2e1d9465f4": {
      "model_module": "@jupyter-widgets/controls",
      "model_module_version": "1.5.0",
      "model_name": "DescriptionStyleModel",
      "state": {
       "_model_module": "@jupyter-widgets/controls",
       "_model_module_version": "1.5.0",
       "_model_name": "DescriptionStyleModel",
       "_view_count": null,
       "_view_module": "@jupyter-widgets/base",
       "_view_module_version": "1.2.0",
       "_view_name": "StyleView",
       "description_width": ""
      }
     },
     "fec1c868a36b41cc93f25f48570b95c5": {
      "model_module": "@jupyter-widgets/controls",
      "model_module_version": "1.5.0",
      "model_name": "HBoxModel",
      "state": {
       "_dom_classes": [],
       "_model_module": "@jupyter-widgets/controls",
       "_model_module_version": "1.5.0",
       "_model_name": "HBoxModel",
       "_view_count": null,
       "_view_module": "@jupyter-widgets/controls",
       "_view_module_version": "1.5.0",
       "_view_name": "HBoxView",
       "box_style": "",
       "children": [
        "IPY_MODEL_90c02195cc664b26ae17b1da0703929f",
        "IPY_MODEL_15a5eb34f7f24e29b1529ded5de865bc",
        "IPY_MODEL_b1a37ad471a74e4ba388e70cbe1705ae"
       ],
       "layout": "IPY_MODEL_a67b09eb81894e048e72ab066fc1103b"
      }
     }
    },
    "version_major": 2,
    "version_minor": 0
   }
  }
 },
 "nbformat": 4,
 "nbformat_minor": 5
}
